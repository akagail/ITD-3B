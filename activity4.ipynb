{
 "cells": [
  {
   "cell_type": "markdown",
   "id": "c3e93372-75af-4c70-8d56-b762bcc2844c",
   "metadata": {},
   "source": [
    "<h1 style='\n",
    "    font-weight:700; \n",
    "    font-size:40px;\n",
    "    font-family:\"Segoe UI Light\";\n",
    "    letter-spacing:0.5px;\n",
    "    margin-bottom: 10px;\n",
    "  '>United Kingdom Accident Data Analysis\n",
    "</h1>\n",
    "\n",
    "<!-- to separate the h1  -->\n",
    "<div style='\n",
    "    width: auto;\n",
    "    border-top: 1px solid white;\n",
    "    '>\n",
    "</div>\n",
    "\n",
    "<h1 style='\n",
    "    font-weight:500; \n",
    "    font-size:30px;\n",
    "    letter-spacing:1px;\n",
    "    font-family:\"Segoe UI Light\";\n",
    "    margin-top: 10px;\n",
    "    '>Inclusive Years 2019 - 2022\n",
    "</h1>\n",
    "<h1 style='\n",
    "    padding-bottom:1em;\n",
    "    font-weight:500; \n",
    "    font-size:20px;\n",
    "    letter-spacing:1px;\n",
    "    font-family:\"Segoe UI Light\";\n",
    "    '>Analyst: Sinaon, Gail Ivan Y.\n",
    "</h1>"
   ]
  },
  {
   "cell_type": "markdown",
   "id": "43973738-7cd0-487f-8f3c-fb1b79b1ffeb",
   "metadata": {},
   "source": [
    "<h1 style='\n",
    "    font-weight:700;\n",
    "    font-size:40px;\n",
    "    color:#597165;\n",
    "    letter-spacing:0.5px;\n",
    "    font-family:\"Segoe UI Light\";\n",
    "    margin-bottom: 20px;\n",
    "    '>Data Preperations\n",
    "</h1>\n",
    "\n",
    "<!-- to separate the h1  -->\n",
    "<div style='\n",
    "    width: auto;\n",
    "    border-top: 1px solid white;\n",
    "    '>\n",
    "</div>\n",
    "\n",
    "<h1 style='\n",
    "    margin-top: 10px;\n",
    "    position: relative;\n",
    "    font-weight:500;\n",
    "    font-size:30px;\n",
    "    font-family:\"Segoe UI Light\";\n",
    "    letter-spacing:1px;\n",
    "    '>Importing libraries\n",
    "</h1>\n"
   ]
  },
  {
   "cell_type": "code",
   "execution_count": 1,
   "id": "4a885134-e6de-4a88-b37a-550bcffcb3b7",
   "metadata": {},
   "outputs": [],
   "source": [
    "import pandas as pd\n",
    "import numpy as np\n",
    "import seaborn as sns\n",
    "import matplotlib.pyplot as plt\n",
    "from scipy.stats import f_oneway"
   ]
  },
  {
   "cell_type": "markdown",
   "id": "c6341059-7c28-4f49-984f-926b6076fa13",
   "metadata": {},
   "source": [
    "<h1 style='font-weight:500;\n",
    "    font-size:30px;\n",
    "    font-family:\"Segoe UI Light\";\n",
    "    letter-spacing:1px;\n",
    "    '>Importing Data Frame\n",
    "</h1>"
   ]
  },
  {
   "cell_type": "code",
   "execution_count": 2,
   "id": "1da06b43-1867-4ee1-a1dc-b680b7be644b",
   "metadata": {},
   "outputs": [],
   "source": [
    "accidents = pd.read_csv('datasets\\\\accident_data.csv')"
   ]
  },
  {
   "cell_type": "code",
   "execution_count": 3,
   "id": "2b70f3c0-fb37-417d-b591-2bd8a24c3152",
   "metadata": {},
   "outputs": [
    {
     "data": {
      "text/html": [
       "<div>\n",
       "<style scoped>\n",
       "    .dataframe tbody tr th:only-of-type {\n",
       "        vertical-align: middle;\n",
       "    }\n",
       "\n",
       "    .dataframe tbody tr th {\n",
       "        vertical-align: top;\n",
       "    }\n",
       "\n",
       "    .dataframe thead th {\n",
       "        text-align: right;\n",
       "    }\n",
       "</style>\n",
       "<table border=\"1\" class=\"dataframe\">\n",
       "  <thead>\n",
       "    <tr style=\"text-align: right;\">\n",
       "      <th></th>\n",
       "      <th>Index</th>\n",
       "      <th>Accident_Severity</th>\n",
       "      <th>Accident Date</th>\n",
       "      <th>Latitude</th>\n",
       "      <th>Light_Conditions</th>\n",
       "      <th>District Area</th>\n",
       "      <th>Longitude</th>\n",
       "      <th>Number_of_Casualties</th>\n",
       "      <th>Number_of_Vehicles</th>\n",
       "      <th>Road_Surface_Conditions</th>\n",
       "      <th>Road_Type</th>\n",
       "      <th>Urban_or_Rural_Area</th>\n",
       "      <th>Weather_Conditions</th>\n",
       "      <th>Vehicle_Type</th>\n",
       "    </tr>\n",
       "  </thead>\n",
       "  <tbody>\n",
       "    <tr>\n",
       "      <th>0</th>\n",
       "      <td>200701BS64157</td>\n",
       "      <td>Serious</td>\n",
       "      <td>5/6/2019</td>\n",
       "      <td>51.506187</td>\n",
       "      <td>Darkness - lights lit</td>\n",
       "      <td>Kensington and Chelsea</td>\n",
       "      <td>-0.209082</td>\n",
       "      <td>1</td>\n",
       "      <td>2</td>\n",
       "      <td>Dry</td>\n",
       "      <td>Single carriageway</td>\n",
       "      <td>Urban</td>\n",
       "      <td>Fine no high winds</td>\n",
       "      <td>Car</td>\n",
       "    </tr>\n",
       "    <tr>\n",
       "      <th>1</th>\n",
       "      <td>200701BS65737</td>\n",
       "      <td>Serious</td>\n",
       "      <td>2/7/2019</td>\n",
       "      <td>51.495029</td>\n",
       "      <td>Daylight</td>\n",
       "      <td>Kensington and Chelsea</td>\n",
       "      <td>-0.173647</td>\n",
       "      <td>1</td>\n",
       "      <td>2</td>\n",
       "      <td>Wet or damp</td>\n",
       "      <td>Single carriageway</td>\n",
       "      <td>Urban</td>\n",
       "      <td>Raining no high winds</td>\n",
       "      <td>Car</td>\n",
       "    </tr>\n",
       "    <tr>\n",
       "      <th>2</th>\n",
       "      <td>200701BS66127</td>\n",
       "      <td>Serious</td>\n",
       "      <td>26-08-2019</td>\n",
       "      <td>51.517715</td>\n",
       "      <td>Darkness - lighting unknown</td>\n",
       "      <td>Kensington and Chelsea</td>\n",
       "      <td>-0.210215</td>\n",
       "      <td>1</td>\n",
       "      <td>3</td>\n",
       "      <td>Dry</td>\n",
       "      <td>NaN</td>\n",
       "      <td>Urban</td>\n",
       "      <td>NaN</td>\n",
       "      <td>Taxi/Private hire car</td>\n",
       "    </tr>\n",
       "    <tr>\n",
       "      <th>3</th>\n",
       "      <td>200701BS66128</td>\n",
       "      <td>Serious</td>\n",
       "      <td>16-08-2019</td>\n",
       "      <td>51.495478</td>\n",
       "      <td>Daylight</td>\n",
       "      <td>Kensington and Chelsea</td>\n",
       "      <td>-0.202731</td>\n",
       "      <td>1</td>\n",
       "      <td>4</td>\n",
       "      <td>Dry</td>\n",
       "      <td>Single carriageway</td>\n",
       "      <td>Urban</td>\n",
       "      <td>Fine no high winds</td>\n",
       "      <td>Bus or coach (17 or more pass seats)</td>\n",
       "    </tr>\n",
       "    <tr>\n",
       "      <th>4</th>\n",
       "      <td>200701BS66837</td>\n",
       "      <td>Slight</td>\n",
       "      <td>3/9/2019</td>\n",
       "      <td>51.488576</td>\n",
       "      <td>Darkness - lights lit</td>\n",
       "      <td>Kensington and Chelsea</td>\n",
       "      <td>-0.192487</td>\n",
       "      <td>1</td>\n",
       "      <td>2</td>\n",
       "      <td>Dry</td>\n",
       "      <td>NaN</td>\n",
       "      <td>Urban</td>\n",
       "      <td>NaN</td>\n",
       "      <td>Other vehicle</td>\n",
       "    </tr>\n",
       "  </tbody>\n",
       "</table>\n",
       "</div>"
      ],
      "text/plain": [
       "           Index Accident_Severity Accident Date   Latitude  \\\n",
       "0  200701BS64157           Serious      5/6/2019  51.506187   \n",
       "1  200701BS65737           Serious      2/7/2019  51.495029   \n",
       "2  200701BS66127           Serious    26-08-2019  51.517715   \n",
       "3  200701BS66128           Serious    16-08-2019  51.495478   \n",
       "4  200701BS66837            Slight      3/9/2019  51.488576   \n",
       "\n",
       "              Light_Conditions           District Area  Longitude  \\\n",
       "0        Darkness - lights lit  Kensington and Chelsea  -0.209082   \n",
       "1                     Daylight  Kensington and Chelsea  -0.173647   \n",
       "2  Darkness - lighting unknown  Kensington and Chelsea  -0.210215   \n",
       "3                     Daylight  Kensington and Chelsea  -0.202731   \n",
       "4        Darkness - lights lit  Kensington and Chelsea  -0.192487   \n",
       "\n",
       "   Number_of_Casualties  Number_of_Vehicles Road_Surface_Conditions  \\\n",
       "0                     1                   2                     Dry   \n",
       "1                     1                   2             Wet or damp   \n",
       "2                     1                   3                     Dry   \n",
       "3                     1                   4                     Dry   \n",
       "4                     1                   2                     Dry   \n",
       "\n",
       "            Road_Type Urban_or_Rural_Area     Weather_Conditions  \\\n",
       "0  Single carriageway               Urban     Fine no high winds   \n",
       "1  Single carriageway               Urban  Raining no high winds   \n",
       "2                 NaN               Urban                    NaN   \n",
       "3  Single carriageway               Urban     Fine no high winds   \n",
       "4                 NaN               Urban                    NaN   \n",
       "\n",
       "                           Vehicle_Type  \n",
       "0                                   Car  \n",
       "1                                   Car  \n",
       "2                 Taxi/Private hire car  \n",
       "3  Bus or coach (17 or more pass seats)  \n",
       "4                         Other vehicle  "
      ]
     },
     "execution_count": 3,
     "metadata": {},
     "output_type": "execute_result"
    }
   ],
   "source": [
    "accidents.head()"
   ]
  },
  {
   "cell_type": "code",
   "execution_count": 4,
   "id": "862186f0-85e7-4faa-95d6-5bd30b36e9e6",
   "metadata": {},
   "outputs": [
    {
     "name": "stdout",
     "output_type": "stream",
     "text": [
      "<class 'pandas.core.frame.DataFrame'>\n",
      "RangeIndex: 660679 entries, 0 to 660678\n",
      "Data columns (total 14 columns):\n",
      " #   Column                   Non-Null Count   Dtype  \n",
      "---  ------                   --------------   -----  \n",
      " 0   Index                    660679 non-null  object \n",
      " 1   Accident_Severity        660679 non-null  object \n",
      " 2   Accident Date            660679 non-null  object \n",
      " 3   Latitude                 660654 non-null  float64\n",
      " 4   Light_Conditions         660679 non-null  object \n",
      " 5   District Area            660679 non-null  object \n",
      " 6   Longitude                660653 non-null  float64\n",
      " 7   Number_of_Casualties     660679 non-null  int64  \n",
      " 8   Number_of_Vehicles       660679 non-null  int64  \n",
      " 9   Road_Surface_Conditions  659953 non-null  object \n",
      " 10  Road_Type                656159 non-null  object \n",
      " 11  Urban_or_Rural_Area      660664 non-null  object \n",
      " 12  Weather_Conditions       646551 non-null  object \n",
      " 13  Vehicle_Type             660679 non-null  object \n",
      "dtypes: float64(2), int64(2), object(10)\n",
      "memory usage: 70.6+ MB\n"
     ]
    }
   ],
   "source": [
    "accidents.info()"
   ]
  },
  {
   "cell_type": "code",
   "execution_count": 5,
   "id": "40c82adf-7d10-4523-8991-cdb4a0e2806d",
   "metadata": {},
   "outputs": [
    {
     "data": {
      "text/plain": [
       "Index                       object\n",
       "Accident_Severity           object\n",
       "Accident Date               object\n",
       "Latitude                   float64\n",
       "Light_Conditions            object\n",
       "District Area               object\n",
       "Longitude                  float64\n",
       "Number_of_Casualties         int64\n",
       "Number_of_Vehicles           int64\n",
       "Road_Surface_Conditions     object\n",
       "Road_Type                   object\n",
       "Urban_or_Rural_Area         object\n",
       "Weather_Conditions          object\n",
       "Vehicle_Type                object\n",
       "dtype: object"
      ]
     },
     "execution_count": 5,
     "metadata": {},
     "output_type": "execute_result"
    }
   ],
   "source": [
    "accidents.dtypes"
   ]
  },
  {
   "cell_type": "markdown",
   "id": "a369988b-dcb0-4145-9a25-48dcf9027831",
   "metadata": {},
   "source": [
    "<h1 style='\n",
    "    font-weight:700;\n",
    "    font-size:40px;\n",
    "    margin-bottom: 20px;\n",
    "    font-family: \"Segoe UI Light\";\n",
    "    letter-spacing: 1px;\n",
    "    '>\n",
    "    <span style='color:#597165;'>\n",
    "        Data Cleansing:\n",
    "    </span> \n",
    "</h1>\n",
    "\n",
    "<!-- to separate the h1  -->\n",
    "<div style='\n",
    "    width: auto;\n",
    "    border-top: 1px solid white;\n",
    "    '>\n",
    "</div>\n",
    "\n",
    "<h1 style='\n",
    "    font-weight:500;\n",
    "    font-size:30px;\n",
    "    margin-top: 10px;\n",
    "    font-family: \"Segoe UI Light\";\n",
    "    line-spacing: 1px;\n",
    "    '>\n",
    "    Identifying null values and filling null values \n",
    "</h1>"
   ]
  },
  {
   "cell_type": "code",
   "execution_count": 6,
   "id": "5189a837-7a10-499f-a636-eb022ddb2008",
   "metadata": {},
   "outputs": [
    {
     "data": {
      "text/html": [
       "<div>\n",
       "<style scoped>\n",
       "    .dataframe tbody tr th:only-of-type {\n",
       "        vertical-align: middle;\n",
       "    }\n",
       "\n",
       "    .dataframe tbody tr th {\n",
       "        vertical-align: top;\n",
       "    }\n",
       "\n",
       "    .dataframe thead th {\n",
       "        text-align: right;\n",
       "    }\n",
       "</style>\n",
       "<table border=\"1\" class=\"dataframe\">\n",
       "  <thead>\n",
       "    <tr style=\"text-align: right;\">\n",
       "      <th></th>\n",
       "      <th>Latitude</th>\n",
       "      <th>Longitude</th>\n",
       "      <th>Number_of_Casualties</th>\n",
       "      <th>Number_of_Vehicles</th>\n",
       "    </tr>\n",
       "  </thead>\n",
       "  <tbody>\n",
       "    <tr>\n",
       "      <th>count</th>\n",
       "      <td>660654.000000</td>\n",
       "      <td>660653.000000</td>\n",
       "      <td>660679.000000</td>\n",
       "      <td>660679.000000</td>\n",
       "    </tr>\n",
       "    <tr>\n",
       "      <th>mean</th>\n",
       "      <td>52.553866</td>\n",
       "      <td>-1.431210</td>\n",
       "      <td>1.357040</td>\n",
       "      <td>1.831255</td>\n",
       "    </tr>\n",
       "    <tr>\n",
       "      <th>std</th>\n",
       "      <td>1.406922</td>\n",
       "      <td>1.383330</td>\n",
       "      <td>0.824847</td>\n",
       "      <td>0.715269</td>\n",
       "    </tr>\n",
       "    <tr>\n",
       "      <th>min</th>\n",
       "      <td>49.914430</td>\n",
       "      <td>-7.516225</td>\n",
       "      <td>1.000000</td>\n",
       "      <td>1.000000</td>\n",
       "    </tr>\n",
       "    <tr>\n",
       "      <th>25%</th>\n",
       "      <td>51.490690</td>\n",
       "      <td>-2.332291</td>\n",
       "      <td>1.000000</td>\n",
       "      <td>1.000000</td>\n",
       "    </tr>\n",
       "    <tr>\n",
       "      <th>50%</th>\n",
       "      <td>52.315641</td>\n",
       "      <td>-1.411667</td>\n",
       "      <td>1.000000</td>\n",
       "      <td>2.000000</td>\n",
       "    </tr>\n",
       "    <tr>\n",
       "      <th>75%</th>\n",
       "      <td>53.453452</td>\n",
       "      <td>-0.232869</td>\n",
       "      <td>1.000000</td>\n",
       "      <td>2.000000</td>\n",
       "    </tr>\n",
       "    <tr>\n",
       "      <th>max</th>\n",
       "      <td>60.757544</td>\n",
       "      <td>1.762010</td>\n",
       "      <td>68.000000</td>\n",
       "      <td>32.000000</td>\n",
       "    </tr>\n",
       "  </tbody>\n",
       "</table>\n",
       "</div>"
      ],
      "text/plain": [
       "            Latitude      Longitude  Number_of_Casualties  Number_of_Vehicles\n",
       "count  660654.000000  660653.000000         660679.000000       660679.000000\n",
       "mean       52.553866      -1.431210              1.357040            1.831255\n",
       "std         1.406922       1.383330              0.824847            0.715269\n",
       "min        49.914430      -7.516225              1.000000            1.000000\n",
       "25%        51.490690      -2.332291              1.000000            1.000000\n",
       "50%        52.315641      -1.411667              1.000000            2.000000\n",
       "75%        53.453452      -0.232869              1.000000            2.000000\n",
       "max        60.757544       1.762010             68.000000           32.000000"
      ]
     },
     "execution_count": 6,
     "metadata": {},
     "output_type": "execute_result"
    }
   ],
   "source": [
    "accidents.describe()"
   ]
  },
  {
   "cell_type": "code",
   "execution_count": 7,
   "id": "e9950450-fed8-446f-8893-5ef72a22646c",
   "metadata": {},
   "outputs": [
    {
     "data": {
      "text/plain": [
       "Index                          0\n",
       "Accident_Severity              0\n",
       "Accident Date                  0\n",
       "Latitude                       0\n",
       "Light_Conditions               0\n",
       "District Area                  0\n",
       "Longitude                     26\n",
       "Number_of_Casualties           0\n",
       "Number_of_Vehicles             0\n",
       "Road_Surface_Conditions      726\n",
       "Road_Type                   4520\n",
       "Urban_or_Rural_Area           15\n",
       "Weather_Conditions         14128\n",
       "Vehicle_Type                   0\n",
       "dtype: int64"
      ]
     },
     "execution_count": 7,
     "metadata": {},
     "output_type": "execute_result"
    }
   ],
   "source": [
    "accidents['Latitude'] = accidents['Latitude'].fillna(accidents['Latitude'].mode()[0])\n",
    "accidents.isnull().sum()"
   ]
  },
  {
   "cell_type": "code",
   "execution_count": 8,
   "id": "f2778ef5-78e7-473f-b55a-a13ea355927c",
   "metadata": {},
   "outputs": [
    {
     "data": {
      "text/plain": [
       "Index                          0\n",
       "Accident_Severity              0\n",
       "Accident Date                  0\n",
       "Latitude                       0\n",
       "Light_Conditions               0\n",
       "District Area                  0\n",
       "Longitude                      0\n",
       "Number_of_Casualties           0\n",
       "Number_of_Vehicles             0\n",
       "Road_Surface_Conditions      726\n",
       "Road_Type                   4520\n",
       "Urban_or_Rural_Area           15\n",
       "Weather_Conditions         14128\n",
       "Vehicle_Type                   0\n",
       "dtype: int64"
      ]
     },
     "execution_count": 8,
     "metadata": {},
     "output_type": "execute_result"
    }
   ],
   "source": [
    "accidents['Longitude'] = accidents['Longitude'].fillna(accidents['Longitude'].mode()[0])\n",
    "accidents.isnull().sum()"
   ]
  },
  {
   "cell_type": "code",
   "execution_count": 9,
   "id": "d81d46ca-a7b5-45d3-a5d1-317c3eb6fdd2",
   "metadata": {},
   "outputs": [],
   "source": [
    "# accidents['Accident Date'] = accidents['Accident Date'].fillna(accidents['Accident Date']) == 'Unknown Date'\n",
    "accidents['Road_Surface_Conditions'] = accidents['Road_Surface_Conditions'].fillna('Unknown')\n",
    "accidents['Road_Type'] = accidents['Road_Type'].fillna('Unknown')\n",
    "accidents['Urban_or_Rural_Area'] = accidents['Urban_or_Rural_Area'].fillna('Unknown')\n",
    "accidents['Weather_Conditions'] = accidents['Weather_Conditions'].fillna('Unknown')"
   ]
  },
  {
   "cell_type": "code",
   "execution_count": 10,
   "id": "6c04c116-2755-4ad2-8b6a-4dac00a196c2",
   "metadata": {
    "scrolled": true
   },
   "outputs": [
    {
     "data": {
      "text/plain": [
       "Index                      0\n",
       "Accident_Severity          0\n",
       "Accident Date              0\n",
       "Latitude                   0\n",
       "Light_Conditions           0\n",
       "District Area              0\n",
       "Longitude                  0\n",
       "Number_of_Casualties       0\n",
       "Number_of_Vehicles         0\n",
       "Road_Surface_Conditions    0\n",
       "Road_Type                  0\n",
       "Urban_or_Rural_Area        0\n",
       "Weather_Conditions         0\n",
       "Vehicle_Type               0\n",
       "dtype: int64"
      ]
     },
     "execution_count": 10,
     "metadata": {},
     "output_type": "execute_result"
    }
   ],
   "source": [
    "accidents.isnull().sum()"
   ]
  },
  {
   "cell_type": "code",
   "execution_count": 11,
   "id": "39fdcce8-89e1-4104-bbf6-f391fc158053",
   "metadata": {},
   "outputs": [
    {
     "name": "stdout",
     "output_type": "stream",
     "text": [
      "<class 'pandas.core.frame.DataFrame'>\n",
      "RangeIndex: 660679 entries, 0 to 660678\n",
      "Data columns (total 14 columns):\n",
      " #   Column                   Non-Null Count   Dtype  \n",
      "---  ------                   --------------   -----  \n",
      " 0   Index                    660679 non-null  object \n",
      " 1   Accident_Severity        660679 non-null  object \n",
      " 2   Accident Date            660679 non-null  object \n",
      " 3   Latitude                 660679 non-null  float64\n",
      " 4   Light_Conditions         660679 non-null  object \n",
      " 5   District Area            660679 non-null  object \n",
      " 6   Longitude                660679 non-null  float64\n",
      " 7   Number_of_Casualties     660679 non-null  int64  \n",
      " 8   Number_of_Vehicles       660679 non-null  int64  \n",
      " 9   Road_Surface_Conditions  660679 non-null  object \n",
      " 10  Road_Type                660679 non-null  object \n",
      " 11  Urban_or_Rural_Area      660679 non-null  object \n",
      " 12  Weather_Conditions       660679 non-null  object \n",
      " 13  Vehicle_Type             660679 non-null  object \n",
      "dtypes: float64(2), int64(2), object(10)\n",
      "memory usage: 70.6+ MB\n"
     ]
    }
   ],
   "source": [
    "accidents.info()"
   ]
  },
  {
   "cell_type": "markdown",
   "id": "891b0c54-1ac0-43e7-b83e-51f121275b78",
   "metadata": {},
   "source": [
    "<h1 style='\n",
    "    font-weight:600;\n",
    "    font-size:40px;\n",
    "    font-family:\"Segoe UI Light\";\n",
    "    letter-spacing: 1px;\n",
    "    margin-bottom: 20px;\n",
    "    '>\n",
    "    <span style='color:#597165;'>\n",
    "        Data Preparation:\n",
    "    </span>\n",
    "</h1>\n",
    "\n",
    "<!-- to separate the h1  -->\n",
    "<div style='\n",
    "    width: auto;\n",
    "    border-top: 1px solid white;\n",
    "    '>\n",
    "</div>\n",
    "\n",
    "<h1 style='\n",
    "    margin-top: 10px;\n",
    "    font-weight:500;\n",
    "    font-size:30px;\n",
    "    font-family:\"Segoe UI Light\";\n",
    "    letter-spacing: 1px;\n",
    "    '>\n",
    "    Converting Date Fields into Date Time datatypes\n",
    "</h1>\n"
   ]
  },
  {
   "cell_type": "code",
   "execution_count": 12,
   "id": "dc784c84-640e-45ac-8273-af1a8bd8df48",
   "metadata": {},
   "outputs": [],
   "source": [
    "accidents['Accident Date'] = accidents['Accident Date'].astype('str')\n",
    "accidents['Accident Date'] = accidents['Accident Date'].str.strip()\n",
    "accidents['Accident Date'] = accidents['Accident Date'].str.replace('/', '-')"
   ]
  },
  {
   "cell_type": "code",
   "execution_count": 13,
   "id": "5cfe364b-957a-495c-966b-08392ec4ee60",
   "metadata": {},
   "outputs": [],
   "source": [
    "accidents['Accident Date'] = pd.to_datetime(accidents['Accident Date'], dayfirst = True, errors = 'coerce')"
   ]
  },
  {
   "cell_type": "code",
   "execution_count": 14,
   "id": "1d6df496-c181-4836-9305-fdc10dc53b6e",
   "metadata": {},
   "outputs": [
    {
     "data": {
      "text/plain": [
       "Index                              object\n",
       "Accident_Severity                  object\n",
       "Accident Date              datetime64[ns]\n",
       "Latitude                          float64\n",
       "Light_Conditions                   object\n",
       "District Area                      object\n",
       "Longitude                         float64\n",
       "Number_of_Casualties                int64\n",
       "Number_of_Vehicles                  int64\n",
       "Road_Surface_Conditions            object\n",
       "Road_Type                          object\n",
       "Urban_or_Rural_Area                object\n",
       "Weather_Conditions                 object\n",
       "Vehicle_Type                       object\n",
       "dtype: object"
      ]
     },
     "execution_count": 14,
     "metadata": {},
     "output_type": "execute_result"
    }
   ],
   "source": [
    "accidents.dtypes"
   ]
  },
  {
   "cell_type": "code",
   "execution_count": 15,
   "id": "c21fd7a1-bf80-4b67-ba8f-224c7a695fbb",
   "metadata": {},
   "outputs": [
    {
     "data": {
      "text/plain": [
       "<DatetimeArray>\n",
       "['2019-06-05 00:00:00', '2019-07-02 00:00:00', '2019-08-26 00:00:00',\n",
       " '2019-08-16 00:00:00', '2019-09-03 00:00:00', '2019-09-18 00:00:00',\n",
       " '2019-09-05 00:00:00', '2019-10-03 00:00:00', '2019-10-31 00:00:00',\n",
       " '2019-10-18 00:00:00',\n",
       " ...\n",
       " '2022-09-13 00:00:00', '2022-10-31 00:00:00', '2022-11-21 00:00:00',\n",
       " '2022-12-02 00:00:00', '2022-12-18 00:00:00', '2022-12-29 00:00:00',\n",
       " '2022-12-30 00:00:00', '2022-12-26 00:00:00', '2022-07-25 00:00:00',\n",
       " '2022-12-25 00:00:00']\n",
       "Length: 1461, dtype: datetime64[ns]"
      ]
     },
     "execution_count": 15,
     "metadata": {},
     "output_type": "execute_result"
    }
   ],
   "source": [
    "accidents['Accident Date'].unique()"
   ]
  },
  {
   "cell_type": "markdown",
   "id": "10b7a4f1-2f9f-42c4-a68c-b8fcde464ae1",
   "metadata": {},
   "source": [
    "<h1 style='\n",
    "    font-weight:700;\n",
    "    font-size:40px;\n",
    "    margin-bottom: 20px;\n",
    "    font-family: \"Segoe UI Light\";\n",
    "    letter-spacing: 1px;\n",
    "    '>\n",
    "    <span style='color:#597165;'>\n",
    "        Data Preparation:\n",
    "    </span> \n",
    "</h1>\n",
    "\n",
    "<!-- to separate the h1  -->\n",
    "<div style='\n",
    "    width: auto;\n",
    "    border-top: 1px solid white;\n",
    "    '>\n",
    "</div>\n",
    "\n",
    "<h1 style='\n",
    "    font-weight:500;\n",
    "    font-size:30px;\n",
    "    margin-top: 10px;\n",
    "    font-family: \"Segoe UI Light\";\n",
    "    letter-spacing: 1px;\n",
    "    '>\n",
    "    Converting all data types to its corresponding data type\n",
    "</h1>"
   ]
  },
  {
   "cell_type": "code",
   "execution_count": 16,
   "id": "c377c412-e0f8-4f5d-8429-b27a39c1be2f",
   "metadata": {},
   "outputs": [],
   "source": [
    "accidents['Accident_Severity'] = accidents['Accident_Severity'].astype('category')\n",
    "accidents['Light_Conditions'] = accidents['Light_Conditions'].astype('category')\n",
    "accidents['District Area'] = accidents['District Area'].astype('category')\n",
    "accidents['Road_Surface_Conditions'] = accidents['Road_Surface_Conditions'].astype('category')\n",
    "accidents['Road_Type'] = accidents['Road_Type'].astype('category')\n",
    "accidents['Urban_or_Rural_Area'] = accidents['Urban_or_Rural_Area'].astype('category')\n",
    "accidents['Weather_Conditions'] = accidents['Weather_Conditions'].astype('category')\n",
    "accidents['Vehicle_Type'] = accidents['Vehicle_Type'].astype('category')"
   ]
  },
  {
   "cell_type": "code",
   "execution_count": 17,
   "id": "ded6f84c-04e2-4072-b6c7-55e4adf4f3d5",
   "metadata": {},
   "outputs": [
    {
     "data": {
      "text/plain": [
       "Index                              object\n",
       "Accident_Severity                category\n",
       "Accident Date              datetime64[ns]\n",
       "Latitude                          float64\n",
       "Light_Conditions                 category\n",
       "District Area                    category\n",
       "Longitude                         float64\n",
       "Number_of_Casualties                int64\n",
       "Number_of_Vehicles                  int64\n",
       "Road_Surface_Conditions          category\n",
       "Road_Type                        category\n",
       "Urban_or_Rural_Area              category\n",
       "Weather_Conditions               category\n",
       "Vehicle_Type                     category\n",
       "dtype: object"
      ]
     },
     "execution_count": 17,
     "metadata": {},
     "output_type": "execute_result"
    }
   ],
   "source": [
    "accidents.dtypes"
   ]
  },
  {
   "cell_type": "code",
   "execution_count": 18,
   "id": "6f4f0700-336f-4e7e-af80-a52db322fab6",
   "metadata": {},
   "outputs": [
    {
     "data": {
      "text/plain": [
       "Index                      0\n",
       "Accident_Severity          0\n",
       "Accident Date              0\n",
       "Latitude                   0\n",
       "Light_Conditions           0\n",
       "District Area              0\n",
       "Longitude                  0\n",
       "Number_of_Casualties       0\n",
       "Number_of_Vehicles         0\n",
       "Road_Surface_Conditions    0\n",
       "Road_Type                  0\n",
       "Urban_or_Rural_Area        0\n",
       "Weather_Conditions         0\n",
       "Vehicle_Type               0\n",
       "dtype: int64"
      ]
     },
     "execution_count": 18,
     "metadata": {},
     "output_type": "execute_result"
    }
   ],
   "source": [
    "accidents.isnull().sum()"
   ]
  },
  {
   "cell_type": "code",
   "execution_count": 19,
   "id": "49c16970-5400-4f89-bf2e-605162322e77",
   "metadata": {},
   "outputs": [],
   "source": [
    "accidents['Year'] = accidents['Accident Date'].dt.year\n",
    "accidents['Month'] = accidents['Accident Date'].dt.month\n",
    "accidents['DayNumber'] = accidents['Accident Date'].dt.day\n",
    "accidents['Day'] = accidents['Accident Date'].dt.day_name()\n",
    "# late ko na sir nailagay huhu"
   ]
  },
  {
   "cell_type": "markdown",
   "id": "eb68b22a-ba2a-42e4-886e-b1936438f9d8",
   "metadata": {},
   "source": [
    "<h1 style='\n",
    "    font-weight:700;\n",
    "    font-size:40px;\n",
    "    margin-bottom: 20px;\n",
    "    font-family: \"Segoe UI Light\";\n",
    "    letter-spacing: 1px;\n",
    "    '>\n",
    "    <span style='color:#597165;'>\n",
    "        Data Aggregation:\n",
    "    </span> \n",
    "</h1>\n",
    "\n",
    "<!-- to separate the h1  -->\n",
    "<div style='\n",
    "    width: auto;\n",
    "    border-top: 1px solid white;\n",
    "    '>\n",
    "</div>\n",
    "\n",
    "<h1 style='\n",
    "    font-weight:500;\n",
    "    font-size:30px;\n",
    "    margin-top: 10px;\n",
    "    font-family: \"Segoe UI Light\";\n",
    "    letter-spacing: 1px;\n",
    "    '>\n",
    "    Correlating columns and analyzing data\n",
    "</h1>"
   ]
  },
  {
   "cell_type": "code",
   "execution_count": 20,
   "id": "9c48d859-dba7-45d5-95cb-7855f313014f",
   "metadata": {},
   "outputs": [
    {
     "data": {
      "text/plain": [
       "Accident_Severity\n",
       "Slight     563801\n",
       "Serious     88217\n",
       "Fatal        8661\n",
       "Name: count, dtype: int64"
      ]
     },
     "execution_count": 20,
     "metadata": {},
     "output_type": "execute_result"
    }
   ],
   "source": [
    "accidents['Accident_Severity'].value_counts()"
   ]
  },
  {
   "cell_type": "code",
   "execution_count": 21,
   "id": "64e3670c-11af-4a38-b711-896065a59e46",
   "metadata": {},
   "outputs": [
    {
     "data": {
      "text/html": [
       "<div>\n",
       "<style scoped>\n",
       "    .dataframe tbody tr th:only-of-type {\n",
       "        vertical-align: middle;\n",
       "    }\n",
       "\n",
       "    .dataframe tbody tr th {\n",
       "        vertical-align: top;\n",
       "    }\n",
       "\n",
       "    .dataframe thead th {\n",
       "        text-align: right;\n",
       "    }\n",
       "</style>\n",
       "<table border=\"1\" class=\"dataframe\">\n",
       "  <thead>\n",
       "    <tr style=\"text-align: right;\">\n",
       "      <th></th>\n",
       "      <th>Index</th>\n",
       "      <th>Accident_Severity</th>\n",
       "      <th>Accident Date</th>\n",
       "      <th>Latitude</th>\n",
       "      <th>Light_Conditions</th>\n",
       "      <th>District Area</th>\n",
       "      <th>Longitude</th>\n",
       "      <th>Number_of_Casualties</th>\n",
       "      <th>Number_of_Vehicles</th>\n",
       "      <th>Road_Surface_Conditions</th>\n",
       "      <th>Road_Type</th>\n",
       "      <th>Urban_or_Rural_Area</th>\n",
       "      <th>Weather_Conditions</th>\n",
       "      <th>Vehicle_Type</th>\n",
       "      <th>Year</th>\n",
       "      <th>Month</th>\n",
       "      <th>DayNumber</th>\n",
       "      <th>Day</th>\n",
       "    </tr>\n",
       "  </thead>\n",
       "  <tbody>\n",
       "    <tr>\n",
       "      <th>0</th>\n",
       "      <td>200701BS64157</td>\n",
       "      <td>Serious</td>\n",
       "      <td>2019-06-05</td>\n",
       "      <td>51.506187</td>\n",
       "      <td>Darkness - lights lit</td>\n",
       "      <td>Kensington and Chelsea</td>\n",
       "      <td>-0.209082</td>\n",
       "      <td>1</td>\n",
       "      <td>2</td>\n",
       "      <td>Dry</td>\n",
       "      <td>Single carriageway</td>\n",
       "      <td>Urban</td>\n",
       "      <td>Fine no high winds</td>\n",
       "      <td>Car</td>\n",
       "      <td>2019</td>\n",
       "      <td>6</td>\n",
       "      <td>5</td>\n",
       "      <td>Wednesday</td>\n",
       "    </tr>\n",
       "    <tr>\n",
       "      <th>1</th>\n",
       "      <td>200701BS65737</td>\n",
       "      <td>Serious</td>\n",
       "      <td>2019-07-02</td>\n",
       "      <td>51.495029</td>\n",
       "      <td>Daylight</td>\n",
       "      <td>Kensington and Chelsea</td>\n",
       "      <td>-0.173647</td>\n",
       "      <td>1</td>\n",
       "      <td>2</td>\n",
       "      <td>Wet or damp</td>\n",
       "      <td>Single carriageway</td>\n",
       "      <td>Urban</td>\n",
       "      <td>Raining no high winds</td>\n",
       "      <td>Car</td>\n",
       "      <td>2019</td>\n",
       "      <td>7</td>\n",
       "      <td>2</td>\n",
       "      <td>Tuesday</td>\n",
       "    </tr>\n",
       "    <tr>\n",
       "      <th>2</th>\n",
       "      <td>200701BS66127</td>\n",
       "      <td>Serious</td>\n",
       "      <td>2019-08-26</td>\n",
       "      <td>51.517715</td>\n",
       "      <td>Darkness - lighting unknown</td>\n",
       "      <td>Kensington and Chelsea</td>\n",
       "      <td>-0.210215</td>\n",
       "      <td>1</td>\n",
       "      <td>3</td>\n",
       "      <td>Dry</td>\n",
       "      <td>Unknown</td>\n",
       "      <td>Urban</td>\n",
       "      <td>Unknown</td>\n",
       "      <td>Taxi/Private hire car</td>\n",
       "      <td>2019</td>\n",
       "      <td>8</td>\n",
       "      <td>26</td>\n",
       "      <td>Monday</td>\n",
       "    </tr>\n",
       "    <tr>\n",
       "      <th>3</th>\n",
       "      <td>200701BS66128</td>\n",
       "      <td>Serious</td>\n",
       "      <td>2019-08-16</td>\n",
       "      <td>51.495478</td>\n",
       "      <td>Daylight</td>\n",
       "      <td>Kensington and Chelsea</td>\n",
       "      <td>-0.202731</td>\n",
       "      <td>1</td>\n",
       "      <td>4</td>\n",
       "      <td>Dry</td>\n",
       "      <td>Single carriageway</td>\n",
       "      <td>Urban</td>\n",
       "      <td>Fine no high winds</td>\n",
       "      <td>Bus or coach (17 or more pass seats)</td>\n",
       "      <td>2019</td>\n",
       "      <td>8</td>\n",
       "      <td>16</td>\n",
       "      <td>Friday</td>\n",
       "    </tr>\n",
       "    <tr>\n",
       "      <th>4</th>\n",
       "      <td>200701BS66837</td>\n",
       "      <td>Slight</td>\n",
       "      <td>2019-09-03</td>\n",
       "      <td>51.488576</td>\n",
       "      <td>Darkness - lights lit</td>\n",
       "      <td>Kensington and Chelsea</td>\n",
       "      <td>-0.192487</td>\n",
       "      <td>1</td>\n",
       "      <td>2</td>\n",
       "      <td>Dry</td>\n",
       "      <td>Unknown</td>\n",
       "      <td>Urban</td>\n",
       "      <td>Unknown</td>\n",
       "      <td>Other vehicle</td>\n",
       "      <td>2019</td>\n",
       "      <td>9</td>\n",
       "      <td>3</td>\n",
       "      <td>Tuesday</td>\n",
       "    </tr>\n",
       "  </tbody>\n",
       "</table>\n",
       "</div>"
      ],
      "text/plain": [
       "           Index Accident_Severity Accident Date   Latitude  \\\n",
       "0  200701BS64157           Serious    2019-06-05  51.506187   \n",
       "1  200701BS65737           Serious    2019-07-02  51.495029   \n",
       "2  200701BS66127           Serious    2019-08-26  51.517715   \n",
       "3  200701BS66128           Serious    2019-08-16  51.495478   \n",
       "4  200701BS66837            Slight    2019-09-03  51.488576   \n",
       "\n",
       "              Light_Conditions           District Area  Longitude  \\\n",
       "0        Darkness - lights lit  Kensington and Chelsea  -0.209082   \n",
       "1                     Daylight  Kensington and Chelsea  -0.173647   \n",
       "2  Darkness - lighting unknown  Kensington and Chelsea  -0.210215   \n",
       "3                     Daylight  Kensington and Chelsea  -0.202731   \n",
       "4        Darkness - lights lit  Kensington and Chelsea  -0.192487   \n",
       "\n",
       "   Number_of_Casualties  Number_of_Vehicles Road_Surface_Conditions  \\\n",
       "0                     1                   2                     Dry   \n",
       "1                     1                   2             Wet or damp   \n",
       "2                     1                   3                     Dry   \n",
       "3                     1                   4                     Dry   \n",
       "4                     1                   2                     Dry   \n",
       "\n",
       "            Road_Type Urban_or_Rural_Area     Weather_Conditions  \\\n",
       "0  Single carriageway               Urban     Fine no high winds   \n",
       "1  Single carriageway               Urban  Raining no high winds   \n",
       "2             Unknown               Urban                Unknown   \n",
       "3  Single carriageway               Urban     Fine no high winds   \n",
       "4             Unknown               Urban                Unknown   \n",
       "\n",
       "                           Vehicle_Type  Year  Month  DayNumber        Day  \n",
       "0                                   Car  2019      6          5  Wednesday  \n",
       "1                                   Car  2019      7          2    Tuesday  \n",
       "2                 Taxi/Private hire car  2019      8         26     Monday  \n",
       "3  Bus or coach (17 or more pass seats)  2019      8         16     Friday  \n",
       "4                         Other vehicle  2019      9          3    Tuesday  "
      ]
     },
     "execution_count": 21,
     "metadata": {},
     "output_type": "execute_result"
    }
   ],
   "source": [
    "accidents.head()"
   ]
  },
  {
   "cell_type": "code",
   "execution_count": 22,
   "id": "40e6b4fa-56ef-4510-a2c0-77a9d9c8cf07",
   "metadata": {},
   "outputs": [
    {
     "data": {
      "text/plain": [
       "Index(['Index', 'Accident_Severity', 'Accident Date', 'Latitude',\n",
       "       'Light_Conditions', 'District Area', 'Longitude',\n",
       "       'Number_of_Casualties', 'Number_of_Vehicles', 'Road_Surface_Conditions',\n",
       "       'Road_Type', 'Urban_or_Rural_Area', 'Weather_Conditions',\n",
       "       'Vehicle_Type', 'Year', 'Month', 'DayNumber', 'Day'],\n",
       "      dtype='object')"
      ]
     },
     "execution_count": 22,
     "metadata": {},
     "output_type": "execute_result"
    }
   ],
   "source": [
    "accidents.columns"
   ]
  },
  {
   "cell_type": "markdown",
   "id": "cb6d540c-ada6-47f0-8001-03a301eb6d69",
   "metadata": {},
   "source": [
    "<h1 style='\n",
    "    font-weight:700;\n",
    "    font-size:40px;\n",
    "    margin-bottom: 20px;\n",
    "    font-family: \"Segoe UI Light\";\n",
    "    letter-spacing: 1px;\n",
    "    '>\n",
    "    <span style='color:#597165;'>\n",
    "        Insights No.\n",
    "    </span> \n",
    "    1 - 2\n",
    "</h1>\n",
    "\n",
    "<!-- to separate the h1  -->\n",
    "<div style='\n",
    "    width: auto;\n",
    "    border-top: 1px solid white;\n",
    "    '>\n",
    "</div>\n",
    "\n",
    "<!-- question -->\n",
    "<h1 style='\n",
    "    font-weight:500;\n",
    "    font-size:30px;\n",
    "    margin-top: 15px;\n",
    "    margin-bottom: 15px;\n",
    "    font-family: \"Segoe UI Light\";\n",
    "    letter-spacing: 1px;\n",
    "    '>What district has the most fatal accidents?\n",
    "</h1>\n",
    "\n",
    "<!-- answers -->\n",
    "<ol style='margin-top:10px;'>\n",
    "    <li style='\n",
    "        font-family: \"Segoe UI Light\";\n",
    "        font-weight: 500;\n",
    "        font-size: 20px;\n",
    "        color: #597165;\n",
    "        letter-spacing:1px;\n",
    "        '>\n",
    "        <span style='color:white;'>\n",
    "            Birmingham District has the most fatal accidents with 105 fatal accidents or roughly 1.21% of the recorded accidents.\n",
    "        </span>\n",
    "    </li>\n",
    "    <li style='\n",
    "        font-family: \"Segoe UI Light\";\n",
    "        font-weight: 500;\n",
    "        font-size: 20px;\n",
    "        color: #597165;\n",
    "        letter-spacing:1px;\n",
    "        '>\n",
    "        <span style='color:white;'>\n",
    "            Harlow, Stevenage, and Clackmannanshire District has only 1 fatal accident recorded.\n",
    "        </span>\n",
    "    </li>\n",
    "</ol>"
   ]
  },
  {
   "cell_type": "code",
   "execution_count": 23,
   "id": "bb33905d-84fb-49e9-acd8-43abc7ca76fd",
   "metadata": {
    "scrolled": true
   },
   "outputs": [
    {
     "data": {
      "text/html": [
       "<div>\n",
       "<style scoped>\n",
       "    .dataframe tbody tr th:only-of-type {\n",
       "        vertical-align: middle;\n",
       "    }\n",
       "\n",
       "    .dataframe tbody tr th {\n",
       "        vertical-align: top;\n",
       "    }\n",
       "\n",
       "    .dataframe thead th {\n",
       "        text-align: right;\n",
       "    }\n",
       "</style>\n",
       "<table border=\"1\" class=\"dataframe\">\n",
       "  <thead>\n",
       "    <tr style=\"text-align: right;\">\n",
       "      <th></th>\n",
       "      <th>Index</th>\n",
       "      <th>Accident_Severity</th>\n",
       "      <th>Accident Date</th>\n",
       "      <th>Latitude</th>\n",
       "      <th>Light_Conditions</th>\n",
       "      <th>District Area</th>\n",
       "      <th>Longitude</th>\n",
       "      <th>Number_of_Casualties</th>\n",
       "      <th>Number_of_Vehicles</th>\n",
       "      <th>Road_Surface_Conditions</th>\n",
       "      <th>Road_Type</th>\n",
       "      <th>Urban_or_Rural_Area</th>\n",
       "      <th>Weather_Conditions</th>\n",
       "      <th>Vehicle_Type</th>\n",
       "      <th>Year</th>\n",
       "      <th>Month</th>\n",
       "      <th>DayNumber</th>\n",
       "      <th>Day</th>\n",
       "    </tr>\n",
       "  </thead>\n",
       "  <tbody>\n",
       "    <tr>\n",
       "      <th>7</th>\n",
       "      <td>200701BS67370</td>\n",
       "      <td>Fatal</td>\n",
       "      <td>2019-10-03</td>\n",
       "      <td>51.482260</td>\n",
       "      <td>Darkness - lights lit</td>\n",
       "      <td>Kensington and Chelsea</td>\n",
       "      <td>-0.179486</td>\n",
       "      <td>3</td>\n",
       "      <td>2</td>\n",
       "      <td>Dry</td>\n",
       "      <td>Single carriageway</td>\n",
       "      <td>Urban</td>\n",
       "      <td>Fine no high winds</td>\n",
       "      <td>Car</td>\n",
       "      <td>2019</td>\n",
       "      <td>10</td>\n",
       "      <td>3</td>\n",
       "      <td>Thursday</td>\n",
       "    </tr>\n",
       "    <tr>\n",
       "      <th>11</th>\n",
       "      <td>200701BS67747</td>\n",
       "      <td>Fatal</td>\n",
       "      <td>2019-11-02</td>\n",
       "      <td>51.499127</td>\n",
       "      <td>Daylight</td>\n",
       "      <td>Kensington and Chelsea</td>\n",
       "      <td>-0.159652</td>\n",
       "      <td>1</td>\n",
       "      <td>2</td>\n",
       "      <td>Dry</td>\n",
       "      <td>Single carriageway</td>\n",
       "      <td>Urban</td>\n",
       "      <td>Fine no high winds</td>\n",
       "      <td>Bus or coach (17 or more pass seats)</td>\n",
       "      <td>2019</td>\n",
       "      <td>11</td>\n",
       "      <td>2</td>\n",
       "      <td>Saturday</td>\n",
       "    </tr>\n",
       "    <tr>\n",
       "      <th>20</th>\n",
       "      <td>200701BS68301</td>\n",
       "      <td>Fatal</td>\n",
       "      <td>2019-10-24</td>\n",
       "      <td>51.505996</td>\n",
       "      <td>Daylight</td>\n",
       "      <td>Kensington and Chelsea</td>\n",
       "      <td>-0.214277</td>\n",
       "      <td>1</td>\n",
       "      <td>1</td>\n",
       "      <td>Dry</td>\n",
       "      <td>Single carriageway</td>\n",
       "      <td>Urban</td>\n",
       "      <td>Fine no high winds</td>\n",
       "      <td>Car</td>\n",
       "      <td>2019</td>\n",
       "      <td>10</td>\n",
       "      <td>24</td>\n",
       "      <td>Thursday</td>\n",
       "    </tr>\n",
       "    <tr>\n",
       "      <th>21</th>\n",
       "      <td>200701BS68302</td>\n",
       "      <td>Fatal</td>\n",
       "      <td>2019-11-24</td>\n",
       "      <td>51.486795</td>\n",
       "      <td>Daylight</td>\n",
       "      <td>Kensington and Chelsea</td>\n",
       "      <td>-0.170375</td>\n",
       "      <td>5</td>\n",
       "      <td>1</td>\n",
       "      <td>Dry</td>\n",
       "      <td>Single carriageway</td>\n",
       "      <td>Urban</td>\n",
       "      <td>Fine no high winds</td>\n",
       "      <td>Car</td>\n",
       "      <td>2019</td>\n",
       "      <td>11</td>\n",
       "      <td>24</td>\n",
       "      <td>Sunday</td>\n",
       "    </tr>\n",
       "    <tr>\n",
       "      <th>717</th>\n",
       "      <td>200701CP00032</td>\n",
       "      <td>Fatal</td>\n",
       "      <td>2019-01-30</td>\n",
       "      <td>51.510978</td>\n",
       "      <td>Daylight</td>\n",
       "      <td>City of London</td>\n",
       "      <td>-0.107581</td>\n",
       "      <td>1</td>\n",
       "      <td>2</td>\n",
       "      <td>Wet or damp</td>\n",
       "      <td>Dual carriageway</td>\n",
       "      <td>Urban</td>\n",
       "      <td>Fine no high winds</td>\n",
       "      <td>Car</td>\n",
       "      <td>2019</td>\n",
       "      <td>1</td>\n",
       "      <td>30</td>\n",
       "      <td>Wednesday</td>\n",
       "    </tr>\n",
       "    <tr>\n",
       "      <th>...</th>\n",
       "      <td>...</td>\n",
       "      <td>...</td>\n",
       "      <td>...</td>\n",
       "      <td>...</td>\n",
       "      <td>...</td>\n",
       "      <td>...</td>\n",
       "      <td>...</td>\n",
       "      <td>...</td>\n",
       "      <td>...</td>\n",
       "      <td>...</td>\n",
       "      <td>...</td>\n",
       "      <td>...</td>\n",
       "      <td>...</td>\n",
       "      <td>...</td>\n",
       "      <td>...</td>\n",
       "      <td>...</td>\n",
       "      <td>...</td>\n",
       "      <td>...</td>\n",
       "    </tr>\n",
       "    <tr>\n",
       "      <th>660470</th>\n",
       "      <td>201091NH00529</td>\n",
       "      <td>Fatal</td>\n",
       "      <td>2022-01-29</td>\n",
       "      <td>58.475726</td>\n",
       "      <td>Daylight</td>\n",
       "      <td>Western Isles</td>\n",
       "      <td>-6.278583</td>\n",
       "      <td>1</td>\n",
       "      <td>1</td>\n",
       "      <td>Wet or damp</td>\n",
       "      <td>Single carriageway</td>\n",
       "      <td>Rural</td>\n",
       "      <td>Fine + high winds</td>\n",
       "      <td>Car</td>\n",
       "      <td>2022</td>\n",
       "      <td>1</td>\n",
       "      <td>29</td>\n",
       "      <td>Saturday</td>\n",
       "    </tr>\n",
       "    <tr>\n",
       "      <th>660519</th>\n",
       "      <td>201091NJ01533</td>\n",
       "      <td>Fatal</td>\n",
       "      <td>2022-02-02</td>\n",
       "      <td>58.495554</td>\n",
       "      <td>Daylight</td>\n",
       "      <td>Highland</td>\n",
       "      <td>-4.451628</td>\n",
       "      <td>1</td>\n",
       "      <td>1</td>\n",
       "      <td>Snow</td>\n",
       "      <td>Single carriageway</td>\n",
       "      <td>Rural</td>\n",
       "      <td>Snowing no high winds</td>\n",
       "      <td>Car</td>\n",
       "      <td>2022</td>\n",
       "      <td>2</td>\n",
       "      <td>2</td>\n",
       "      <td>Wednesday</td>\n",
       "    </tr>\n",
       "    <tr>\n",
       "      <th>660565</th>\n",
       "      <td>201091NJ11329</td>\n",
       "      <td>Fatal</td>\n",
       "      <td>2022-08-15</td>\n",
       "      <td>57.871514</td>\n",
       "      <td>Daylight</td>\n",
       "      <td>Highland</td>\n",
       "      <td>-4.243081</td>\n",
       "      <td>1</td>\n",
       "      <td>1</td>\n",
       "      <td>Dry</td>\n",
       "      <td>Single carriageway</td>\n",
       "      <td>Rural</td>\n",
       "      <td>Fine no high winds</td>\n",
       "      <td>Goods 7.5 tonnes mgw and over</td>\n",
       "      <td>2022</td>\n",
       "      <td>8</td>\n",
       "      <td>15</td>\n",
       "      <td>Monday</td>\n",
       "    </tr>\n",
       "    <tr>\n",
       "      <th>660581</th>\n",
       "      <td>201091NJ14695</td>\n",
       "      <td>Fatal</td>\n",
       "      <td>2022-10-21</td>\n",
       "      <td>58.445475</td>\n",
       "      <td>Darkness - lights lit</td>\n",
       "      <td>Highland</td>\n",
       "      <td>-3.065535</td>\n",
       "      <td>1</td>\n",
       "      <td>1</td>\n",
       "      <td>Wet or damp</td>\n",
       "      <td>Single carriageway</td>\n",
       "      <td>Rural</td>\n",
       "      <td>Fine no high winds</td>\n",
       "      <td>Car</td>\n",
       "      <td>2022</td>\n",
       "      <td>10</td>\n",
       "      <td>21</td>\n",
       "      <td>Friday</td>\n",
       "    </tr>\n",
       "    <tr>\n",
       "      <th>660627</th>\n",
       "      <td>201091NL00060</td>\n",
       "      <td>Fatal</td>\n",
       "      <td>2022-01-06</td>\n",
       "      <td>60.241195</td>\n",
       "      <td>Daylight</td>\n",
       "      <td>Shetland Islands</td>\n",
       "      <td>-1.409761</td>\n",
       "      <td>3</td>\n",
       "      <td>1</td>\n",
       "      <td>Snow</td>\n",
       "      <td>Single carriageway</td>\n",
       "      <td>Rural</td>\n",
       "      <td>Fine no high winds</td>\n",
       "      <td>Van / Goods 3.5 tonnes mgw or under</td>\n",
       "      <td>2022</td>\n",
       "      <td>1</td>\n",
       "      <td>6</td>\n",
       "      <td>Thursday</td>\n",
       "    </tr>\n",
       "  </tbody>\n",
       "</table>\n",
       "<p>8661 rows × 18 columns</p>\n",
       "</div>"
      ],
      "text/plain": [
       "                Index Accident_Severity Accident Date   Latitude  \\\n",
       "7       200701BS67370             Fatal    2019-10-03  51.482260   \n",
       "11      200701BS67747             Fatal    2019-11-02  51.499127   \n",
       "20      200701BS68301             Fatal    2019-10-24  51.505996   \n",
       "21      200701BS68302             Fatal    2019-11-24  51.486795   \n",
       "717     200701CP00032             Fatal    2019-01-30  51.510978   \n",
       "...               ...               ...           ...        ...   \n",
       "660470  201091NH00529             Fatal    2022-01-29  58.475726   \n",
       "660519  201091NJ01533             Fatal    2022-02-02  58.495554   \n",
       "660565  201091NJ11329             Fatal    2022-08-15  57.871514   \n",
       "660581  201091NJ14695             Fatal    2022-10-21  58.445475   \n",
       "660627  201091NL00060             Fatal    2022-01-06  60.241195   \n",
       "\n",
       "             Light_Conditions           District Area  Longitude  \\\n",
       "7       Darkness - lights lit  Kensington and Chelsea  -0.179486   \n",
       "11                   Daylight  Kensington and Chelsea  -0.159652   \n",
       "20                   Daylight  Kensington and Chelsea  -0.214277   \n",
       "21                   Daylight  Kensington and Chelsea  -0.170375   \n",
       "717                  Daylight          City of London  -0.107581   \n",
       "...                       ...                     ...        ...   \n",
       "660470               Daylight           Western Isles  -6.278583   \n",
       "660519               Daylight                Highland  -4.451628   \n",
       "660565               Daylight                Highland  -4.243081   \n",
       "660581  Darkness - lights lit                Highland  -3.065535   \n",
       "660627               Daylight        Shetland Islands  -1.409761   \n",
       "\n",
       "        Number_of_Casualties  Number_of_Vehicles Road_Surface_Conditions  \\\n",
       "7                          3                   2                     Dry   \n",
       "11                         1                   2                     Dry   \n",
       "20                         1                   1                     Dry   \n",
       "21                         5                   1                     Dry   \n",
       "717                        1                   2             Wet or damp   \n",
       "...                      ...                 ...                     ...   \n",
       "660470                     1                   1             Wet or damp   \n",
       "660519                     1                   1                    Snow   \n",
       "660565                     1                   1                     Dry   \n",
       "660581                     1                   1             Wet or damp   \n",
       "660627                     3                   1                    Snow   \n",
       "\n",
       "                 Road_Type Urban_or_Rural_Area     Weather_Conditions  \\\n",
       "7       Single carriageway               Urban     Fine no high winds   \n",
       "11      Single carriageway               Urban     Fine no high winds   \n",
       "20      Single carriageway               Urban     Fine no high winds   \n",
       "21      Single carriageway               Urban     Fine no high winds   \n",
       "717       Dual carriageway               Urban     Fine no high winds   \n",
       "...                    ...                 ...                    ...   \n",
       "660470  Single carriageway               Rural      Fine + high winds   \n",
       "660519  Single carriageway               Rural  Snowing no high winds   \n",
       "660565  Single carriageway               Rural     Fine no high winds   \n",
       "660581  Single carriageway               Rural     Fine no high winds   \n",
       "660627  Single carriageway               Rural     Fine no high winds   \n",
       "\n",
       "                                Vehicle_Type  Year  Month  DayNumber  \\\n",
       "7                                        Car  2019     10          3   \n",
       "11      Bus or coach (17 or more pass seats)  2019     11          2   \n",
       "20                                       Car  2019     10         24   \n",
       "21                                       Car  2019     11         24   \n",
       "717                                      Car  2019      1         30   \n",
       "...                                      ...   ...    ...        ...   \n",
       "660470                                   Car  2022      1         29   \n",
       "660519                                   Car  2022      2          2   \n",
       "660565         Goods 7.5 tonnes mgw and over  2022      8         15   \n",
       "660581                                   Car  2022     10         21   \n",
       "660627   Van / Goods 3.5 tonnes mgw or under  2022      1          6   \n",
       "\n",
       "              Day  \n",
       "7        Thursday  \n",
       "11       Saturday  \n",
       "20       Thursday  \n",
       "21         Sunday  \n",
       "717     Wednesday  \n",
       "...           ...  \n",
       "660470   Saturday  \n",
       "660519  Wednesday  \n",
       "660565     Monday  \n",
       "660581     Friday  \n",
       "660627   Thursday  \n",
       "\n",
       "[8661 rows x 18 columns]"
      ]
     },
     "execution_count": 23,
     "metadata": {},
     "output_type": "execute_result"
    }
   ],
   "source": [
    "# filter the accidents by severity\n",
    "fatal_accidents = accidents[accidents['Accident_Severity'] == 'Fatal']\n",
    "fatal_accidents"
   ]
  },
  {
   "cell_type": "code",
   "execution_count": 24,
   "id": "668b31bc-9ecb-41eb-9e62-6fbbf522228e",
   "metadata": {},
   "outputs": [
    {
     "name": "stderr",
     "output_type": "stream",
     "text": [
      "C:\\Users\\LAB4-StudentPC38\\AppData\\Local\\Temp\\ipykernel_11552\\2596405067.py:2: FutureWarning: The default of observed=False is deprecated and will be changed to True in a future version of pandas. Pass observed=False to retain current behavior or observed=True to adopt the future default and silence this warning.\n",
      "  fatal_district_area = fatal_accidents.groupby('District Area').size()\n"
     ]
    },
    {
     "data": {
      "text/plain": [
       "District Area\n",
       "Birmingham                  105\n",
       "Leeds                        93\n",
       "Highland                     88\n",
       "East Riding of Yorkshire     85\n",
       "Bradford                     71\n",
       "                           ... \n",
       "Orkney Islands                2\n",
       "Havant                        2\n",
       "Stevenage                     1\n",
       "Clackmannanshire              1\n",
       "Harlow                        1\n",
       "Length: 422, dtype: int64"
      ]
     },
     "execution_count": 24,
     "metadata": {},
     "output_type": "execute_result"
    }
   ],
   "source": [
    "# group them by district area\n",
    "fatal_district_area = fatal_accidents.groupby('District Area').size()\n",
    "fatal_district_area.sort_values(ascending=False)"
   ]
  },
  {
   "cell_type": "code",
   "execution_count": 25,
   "id": "ecee2a28-06ad-4330-91e4-088bd69ea434",
   "metadata": {},
   "outputs": [
    {
     "data": {
      "text/plain": [
       "<bound method Series.unique of 0         Kensington and Chelsea\n",
       "1         Kensington and Chelsea\n",
       "2         Kensington and Chelsea\n",
       "3         Kensington and Chelsea\n",
       "4         Kensington and Chelsea\n",
       "                   ...          \n",
       "660674                  Highland\n",
       "660675                  Highland\n",
       "660676                  Highland\n",
       "660677                  Highland\n",
       "660678                  Highland\n",
       "Name: District Area, Length: 660679, dtype: category\n",
       "Categories (422, object): ['Aberdeen City', 'Aberdeenshire', 'Adur', 'Allerdale', ..., 'Wycombe', 'Wyre', 'Wyre Forest', 'York']>"
      ]
     },
     "execution_count": 25,
     "metadata": {},
     "output_type": "execute_result"
    }
   ],
   "source": [
    "accidents['District Area'].unique"
   ]
  },
  {
   "cell_type": "code",
   "execution_count": 26,
   "id": "a097b826-5a32-4f35-a967-54c00323b60f",
   "metadata": {},
   "outputs": [
    {
     "data": {
      "image/png": "[encoded data removed]",
      "text/plain": [
       "<Figure size 640x480 with 1 Axes>"
      ]
     },
     "metadata": {},
     "output_type": "display_data"
    }
   ],
   "source": [
    "fatal_district_area_counts = fatal_district_area.sort_values(ascending=False).head()\n",
    "fatal_district_area_counts.plot(kind='bar')\n",
    "plt.title('Fatal Accidents (Highest)')\n",
    "\n",
    "plt.show()"
   ]
  },
  {
   "cell_type": "code",
   "execution_count": 27,
   "id": "fc3a5ec4-4bfd-432c-bde4-7533a631fe39",
   "metadata": {},
   "outputs": [
    {
     "data": {
      "image/png": "[encoded data removed]",
      "text/plain": [
       "<Figure size 640x480 with 1 Axes>"
      ]
     },
     "metadata": {},
     "output_type": "display_data"
    }
   ],
   "source": [
    "fatal_district_area_counts = fatal_district_area.sort_values(ascending=True).head()\n",
    "fatal_district_area_counts.plot(kind='bar')\n",
    "plt.title('Fatal Accidents (Lowest)')\n",
    "\n",
    "plt.show()"
   ]
  },
  {
   "cell_type": "markdown",
   "id": "b417c84f-61b2-479b-8b86-124ec8082349",
   "metadata": {},
   "source": [
    "<h1 style='\n",
    "    font-weight:700;\n",
    "    font-size:40px;\n",
    "    margin-bottom: 20px;\n",
    "    font-family: \"Segoe UI Light\";\n",
    "    letter-spacing: 1px;\n",
    "    '>\n",
    "    <span style='color:#597165;'>\n",
    "        Insights No.\n",
    "    </span> \n",
    "    3 - 7\n",
    "</h1>\n",
    "\n",
    "<!-- to separate the h1  -->\n",
    "<div style='\n",
    "    width: auto;\n",
    "    border-top: 1px solid white;\n",
    "    '>\n",
    "</div>\n",
    "\n",
    "<!-- question -->\n",
    "<h1 style='\n",
    "    font-weight:500;\n",
    "    font-size:30px;\n",
    "    margin-top: 15px;\n",
    "    margin-bottom: 15px;\n",
    "    font-family: \"Segoe UI Light\";\n",
    "    letter-spacing: 1px;\n",
    "    '>What vehicles are involved in most of the accidents?\n",
    "</h1>\n",
    "\n",
    "<!-- answers -->\n",
    "<ol style='margin-top:10px;'>\n",
    "    <li style='\n",
    "        font-family: \"Segoe UI Light\";\n",
    "        font-weight: 500;\n",
    "        font-size: 20px;\n",
    "        color: #597165;\n",
    "        letter-spacing:1px;\n",
    "        '>\n",
    "        <span style='color:white;'>\n",
    "            Cars are the most frequent vehicle type involved in the accidents, recording 497,992 or 75.38% of the overall accidents.\n",
    "        </span>\n",
    "    </li>\n",
    "    <li style='\n",
    "        font-family: \"Segoe UI Light\";\n",
    "        font-weight: 500;\n",
    "        font-size: 20px;\n",
    "        color: #597165;\n",
    "        letter-spacing:1px;\n",
    "        '>\n",
    "        <span style='color:white;'>\n",
    "            On the other hand, ridden horses (wow) are the most uncommon accidents, recording only 4 instances.\n",
    "        </span>\n",
    "    </li>\n",
    "</ol>\n",
    "\n",
    "<!-- question -->\n",
    "<h1 style='\n",
    "    font-weight:500;\n",
    "    font-size:30px;\n",
    "    margin-top: 15px;\n",
    "    margin-bottom: 15px;\n",
    "    font-family: \"Segoe UI Light\";\n",
    "    letter-spacing: 1px;\n",
    "    '>What are the common accident severities of each vehicle types?\n",
    "</h1>\n",
    "\n",
    "<!-- answers -->\n",
    "<ol style='margin-top:10px;'>\n",
    "    <li style='\n",
    "        font-family: \"Segoe UI Light\";\n",
    "        font-weight: 500;\n",
    "        font-size: 20px;\n",
    "        color: #597165;\n",
    "        letter-spacing:1px;\n",
    "        '>\n",
    "        <span style='color:white;'>\n",
    "            Cars are the most frequent vehicle type in slight severity accidents with 424,954 records. And Van / Goods with 3.5 tonnes ngw are in second with 29,139 records of slight accidents.\n",
    "        </span>\n",
    "    </li>\n",
    "    <li style='\n",
    "        font-family: \"Segoe UI Light\";\n",
    "        font-weight: 500;\n",
    "        font-size: 20px;\n",
    "        color: #597165;\n",
    "        letter-spacing:1px;\n",
    "        '>\n",
    "        <span style='color:white;'>\n",
    "            Cars are also the most frequent vehicle type in serious severity accidents with 66,461 records. Van / Goods with 3.5 tonnes ngw are in second with 4,554 records of slight accidents.\n",
    "        </span>\n",
    "    </li>\n",
    "        <li style='\n",
    "        font-family: \"Segoe UI Light\";\n",
    "        font-weight: 500;\n",
    "        font-size: 20px;\n",
    "        color: #597165;\n",
    "        letter-spacing:1px;\n",
    "        '>\n",
    "        <span style='color:white;'>\n",
    "            Fatal accidents are most common with Cars, with 6577 instances. While Van / Goods with 3.5 tonnes ngw are in second with 467 records.\n",
    "        </span>\n",
    "    </li>\n",
    "</ol>"
   ]
  },
  {
   "cell_type": "code",
   "execution_count": 28,
   "id": "3dc47734-a8c2-4c0b-88d0-a41b2c33bff2",
   "metadata": {},
   "outputs": [
    {
     "data": {
      "text/plain": [
       "Index(['Index', 'Accident_Severity', 'Accident Date', 'Latitude',\n",
       "       'Light_Conditions', 'District Area', 'Longitude',\n",
       "       'Number_of_Casualties', 'Number_of_Vehicles', 'Road_Surface_Conditions',\n",
       "       'Road_Type', 'Urban_or_Rural_Area', 'Weather_Conditions',\n",
       "       'Vehicle_Type', 'Year', 'Month', 'DayNumber', 'Day'],\n",
       "      dtype='object')"
      ]
     },
     "execution_count": 28,
     "metadata": {},
     "output_type": "execute_result"
    }
   ],
   "source": [
    "accidents.columns"
   ]
  },
  {
   "cell_type": "code",
   "execution_count": 29,
   "id": "b908b306-414e-4f49-8df4-7ddf7ba24ccc",
   "metadata": {},
   "outputs": [
    {
     "data": {
      "text/plain": [
       "Vehicle_Type\n",
       "Car                                      497992\n",
       "Van / Goods 3.5 tonnes mgw or under       34160\n",
       "Bus or coach (17 or more pass seats)      25878\n",
       "Motorcycle over 500cc                     25657\n",
       "Goods 7.5 tonnes mgw and over             17307\n",
       "Motorcycle 125cc and under                15269\n",
       "Taxi/Private hire car                     13294\n",
       "Motorcycle over 125cc and up to 500cc      7656\n",
       "Motorcycle 50cc and under                  7603\n",
       "Goods over 3.5t. and under 7.5t            6096\n",
       "Other vehicle                              5637\n",
       "Minibus (8 - 16 passenger seats)           1976\n",
       "Agricultural vehicle                       1947\n",
       "Pedal cycle                                 197\n",
       "Data missing or out of range                  6\n",
       "Ridden horse                                  4\n",
       "Name: count, dtype: int64"
      ]
     },
     "execution_count": 29,
     "metadata": {},
     "output_type": "execute_result"
    }
   ],
   "source": [
    "# counts of the vehicle type\n",
    "accidents['Vehicle_Type'].value_counts()"
   ]
  },
  {
   "cell_type": "code",
   "execution_count": 30,
   "id": "6c686665-808c-4827-a785-8468069ad1db",
   "metadata": {},
   "outputs": [
    {
     "data": {
      "image/png": "[encoded data removed]",
      "text/plain": [
       "<Figure size 640x480 with 1 Axes>"
      ]
     },
     "metadata": {},
     "output_type": "display_data"
    }
   ],
   "source": [
    "vehicles_involved = accidents['Vehicle_Type']\n",
    "vehicles_involved_c = accidents['Vehicle_Type'].value_counts()\n",
    "vehicles_involved_c.plot(kind='bar')\n",
    "plt.show()"
   ]
  },
  {
   "cell_type": "code",
   "execution_count": 31,
   "id": "639ac31f-fb6c-4383-8685-ed7da53b97d2",
   "metadata": {},
   "outputs": [
    {
     "name": "stderr",
     "output_type": "stream",
     "text": [
      "C:\\Users\\LAB4-StudentPC38\\AppData\\Local\\Temp\\ipykernel_11552\\1242841892.py:2: FutureWarning: The default of observed=False is deprecated and will be changed to True in a future version of pandas. Pass observed=False to retain current behavior or observed=True to adopt the future default and silence this warning.\n",
      "  severity_by_vehicle = accidents.groupby(['Vehicle_Type', 'Accident_Severity']).size().unstack()\n"
     ]
    },
    {
     "data": {
      "text/html": [
       "<div>\n",
       "<style scoped>\n",
       "    .dataframe tbody tr th:only-of-type {\n",
       "        vertical-align: middle;\n",
       "    }\n",
       "\n",
       "    .dataframe tbody tr th {\n",
       "        vertical-align: top;\n",
       "    }\n",
       "\n",
       "    .dataframe thead th {\n",
       "        text-align: right;\n",
       "    }\n",
       "</style>\n",
       "<table border=\"1\" class=\"dataframe\">\n",
       "  <thead>\n",
       "    <tr style=\"text-align: right;\">\n",
       "      <th>Accident_Severity</th>\n",
       "      <th>Fatal</th>\n",
       "      <th>Serious</th>\n",
       "      <th>Slight</th>\n",
       "    </tr>\n",
       "    <tr>\n",
       "      <th>Vehicle_Type</th>\n",
       "      <th></th>\n",
       "      <th></th>\n",
       "      <th></th>\n",
       "    </tr>\n",
       "  </thead>\n",
       "  <tbody>\n",
       "    <tr>\n",
       "      <th>Agricultural vehicle</th>\n",
       "      <td>21</td>\n",
       "      <td>282</td>\n",
       "      <td>1644</td>\n",
       "    </tr>\n",
       "    <tr>\n",
       "      <th>Bus or coach (17 or more pass seats)</th>\n",
       "      <td>325</td>\n",
       "      <td>3373</td>\n",
       "      <td>22180</td>\n",
       "    </tr>\n",
       "    <tr>\n",
       "      <th>Car</th>\n",
       "      <td>6577</td>\n",
       "      <td>66461</td>\n",
       "      <td>424954</td>\n",
       "    </tr>\n",
       "    <tr>\n",
       "      <th>Data missing or out of range</th>\n",
       "      <td>0</td>\n",
       "      <td>0</td>\n",
       "      <td>6</td>\n",
       "    </tr>\n",
       "    <tr>\n",
       "      <th>Goods 7.5 tonnes mgw and over</th>\n",
       "      <td>216</td>\n",
       "      <td>2321</td>\n",
       "      <td>14770</td>\n",
       "    </tr>\n",
       "    <tr>\n",
       "      <th>Goods over 3.5t. and under 7.5t</th>\n",
       "      <td>67</td>\n",
       "      <td>857</td>\n",
       "      <td>5172</td>\n",
       "    </tr>\n",
       "    <tr>\n",
       "      <th>Minibus (8 - 16 passenger seats)</th>\n",
       "      <td>29</td>\n",
       "      <td>276</td>\n",
       "      <td>1671</td>\n",
       "    </tr>\n",
       "    <tr>\n",
       "      <th>Motorcycle 125cc and under</th>\n",
       "      <td>189</td>\n",
       "      <td>2031</td>\n",
       "      <td>13049</td>\n",
       "    </tr>\n",
       "    <tr>\n",
       "      <th>Motorcycle 50cc and under</th>\n",
       "      <td>95</td>\n",
       "      <td>1014</td>\n",
       "      <td>6494</td>\n",
       "    </tr>\n",
       "    <tr>\n",
       "      <th>Motorcycle over 125cc and up to 500cc</th>\n",
       "      <td>105</td>\n",
       "      <td>1014</td>\n",
       "      <td>6537</td>\n",
       "    </tr>\n",
       "    <tr>\n",
       "      <th>Motorcycle over 500cc</th>\n",
       "      <td>339</td>\n",
       "      <td>3457</td>\n",
       "      <td>21861</td>\n",
       "    </tr>\n",
       "    <tr>\n",
       "      <th>Other vehicle</th>\n",
       "      <td>70</td>\n",
       "      <td>767</td>\n",
       "      <td>4800</td>\n",
       "    </tr>\n",
       "    <tr>\n",
       "      <th>Pedal cycle</th>\n",
       "      <td>6</td>\n",
       "      <td>39</td>\n",
       "      <td>152</td>\n",
       "    </tr>\n",
       "    <tr>\n",
       "      <th>Ridden horse</th>\n",
       "      <td>0</td>\n",
       "      <td>0</td>\n",
       "      <td>4</td>\n",
       "    </tr>\n",
       "    <tr>\n",
       "      <th>Taxi/Private hire car</th>\n",
       "      <td>155</td>\n",
       "      <td>1771</td>\n",
       "      <td>11368</td>\n",
       "    </tr>\n",
       "    <tr>\n",
       "      <th>Van / Goods 3.5 tonnes mgw or under</th>\n",
       "      <td>467</td>\n",
       "      <td>4554</td>\n",
       "      <td>29139</td>\n",
       "    </tr>\n",
       "  </tbody>\n",
       "</table>\n",
       "</div>"
      ],
      "text/plain": [
       "Accident_Severity                      Fatal  Serious  Slight\n",
       "Vehicle_Type                                                 \n",
       "Agricultural vehicle                      21      282    1644\n",
       "Bus or coach (17 or more pass seats)     325     3373   22180\n",
       "Car                                     6577    66461  424954\n",
       "Data missing or out of range               0        0       6\n",
       "Goods 7.5 tonnes mgw and over            216     2321   14770\n",
       "Goods over 3.5t. and under 7.5t           67      857    5172\n",
       "Minibus (8 - 16 passenger seats)          29      276    1671\n",
       "Motorcycle 125cc and under               189     2031   13049\n",
       "Motorcycle 50cc and under                 95     1014    6494\n",
       "Motorcycle over 125cc and up to 500cc    105     1014    6537\n",
       "Motorcycle over 500cc                    339     3457   21861\n",
       "Other vehicle                             70      767    4800\n",
       "Pedal cycle                                6       39     152\n",
       "Ridden horse                               0        0       4\n",
       "Taxi/Private hire car                    155     1771   11368\n",
       "Van / Goods 3.5 tonnes mgw or under      467     4554   29139"
      ]
     },
     "execution_count": 31,
     "metadata": {},
     "output_type": "execute_result"
    }
   ],
   "source": [
    "# group by severities and vehicle types\n",
    "severity_by_vehicle = accidents.groupby(['Vehicle_Type', 'Accident_Severity']).size().unstack()\n",
    "severity_by_vehicle"
   ]
  },
  {
   "cell_type": "code",
   "execution_count": 32,
   "id": "3c370a3c-a7ea-4bef-b61b-082312b9d6a7",
   "metadata": {},
   "outputs": [
    {
     "data": {
      "image/png": "[encoded data removed]",
      "text/plain": [
       "<Figure size 1300x1000 with 1 Axes>"
      ]
     },
     "metadata": {},
     "output_type": "display_data"
    }
   ],
   "source": [
    "severity_by_vehicle.plot(kind='bar', stacked='True')\n",
    "plt.gcf().set_size_inches(13, 10)\n",
    "plt.xlabel('Vehicle Type')\n",
    "plt.ylabel('Number of Accidents')\n",
    "plt.show()"
   ]
  },
  {
   "cell_type": "markdown",
   "id": "408abecb-8b64-41e6-bb70-fc843f111c27",
   "metadata": {},
   "source": [
    "<h1 style='\n",
    "    font-weight:700;\n",
    "    font-size:40px;\n",
    "    margin-bottom: 20px;\n",
    "    font-family: \"Segoe UI Light\";\n",
    "    letter-spacing: 1px;\n",
    "    '>\n",
    "    <span style='color:#597165;'>\n",
    "        Insights No.\n",
    "    </span> \n",
    "    8 - 10\n",
    "</h1>\n",
    "\n",
    "<!-- to separate the h1  -->\n",
    "<div style='\n",
    "    width: auto;\n",
    "    border-top: 1px solid white;\n",
    "    '>\n",
    "</div>\n",
    "\n",
    "<!-- question -->\n",
    "<h1 style='\n",
    "    font-weight:500;\n",
    "    font-size:30px;\n",
    "    margin-top: 15px;\n",
    "    margin-bottom: 15px;\n",
    "    font-family: \"Segoe UI Light\";\n",
    "    letter-spacing: 1px;\n",
    "    '>Which road types has the highest number of accidents?\n",
    "</h1>\n",
    "\n",
    "<!-- answers -->\n",
    "<ol style='margin-top:10px;'>\n",
    "    <li style='\n",
    "        font-family: \"Segoe UI Light\";\n",
    "        font-weight: 500;\n",
    "        font-size: 20px;\n",
    "        color: #597165;\n",
    "        letter-spacing:1px;\n",
    "        '>\n",
    "        <span style='color:white;'>\n",
    "            Single carriageways has the most cases of accidents with 492,143 records.\n",
    "        </span>\n",
    "    </li>\n",
    "</ol>\n",
    "\n",
    "<!-- question -->\n",
    "<h1 style='\n",
    "    font-weight:500;\n",
    "    font-size:30px;\n",
    "    margin-top: 15px;\n",
    "    margin-bottom: 15px;\n",
    "    font-family: \"Segoe UI Light\";\n",
    "    letter-spacing: 1px;\n",
    "    '>Which road types are more prone to accidents in certain weather? \n",
    "</h1>\n",
    "\n",
    "<!-- answers -->\n",
    "<ol style='margin-top:10px;'>\n",
    "    <li style='\n",
    "        font-family: \"Segoe UI Light\";\n",
    "        font-weight: 500;\n",
    "        font-size: 20px;\n",
    "        color: #597165;\n",
    "        letter-spacing:1px;\n",
    "        '>\n",
    "        <span style='color:white;'>\n",
    "            Single carriageways with fine no high winds weather condition has the most records of accidents, recording 389,830 instances. Goes to show that accidents that are recorded in this part are mostly human/driver error.\n",
    "        </span>\n",
    "    </li>\n",
    "</ol>\n",
    "\n",
    "<!-- question -->\n",
    "<h1 style='\n",
    "    font-weight:500;\n",
    "    font-size:30px;\n",
    "    margin-top: 15px;\n",
    "    margin-bottom: 15px;\n",
    "    font-family: \"Segoe UI Light\";\n",
    "    letter-spacing: 1px;\n",
    "    '>Which road types are more prone to accidents in certain road surface condition? \n",
    "</h1>\n",
    "\n",
    "<!-- answers -->\n",
    "<ol style='margin-top:10px;'>\n",
    "    <li style='\n",
    "        font-family: \"Segoe UI Light\";\n",
    "        font-weight: 500;\n",
    "        font-size: 20px;\n",
    "        color: #597165;\n",
    "        letter-spacing:1px;\n",
    "        '>\n",
    "        <span style='color:white;'>\n",
    "            Single carriageways with dry road surface conditions still has the most records of accidents, recording 332,698 instances. Also showing signs of human errors\n",
    "        </span>\n",
    "    </li>\n",
    "</ol>"
   ]
  },
  {
   "cell_type": "code",
   "execution_count": 33,
   "id": "89885d1b-c96f-4152-93ee-176958149869",
   "metadata": {},
   "outputs": [
    {
     "data": {
      "text/plain": [
       "Index(['Index', 'Accident_Severity', 'Accident Date', 'Latitude',\n",
       "       'Light_Conditions', 'District Area', 'Longitude',\n",
       "       'Number_of_Casualties', 'Number_of_Vehicles', 'Road_Surface_Conditions',\n",
       "       'Road_Type', 'Urban_or_Rural_Area', 'Weather_Conditions',\n",
       "       'Vehicle_Type', 'Year', 'Month', 'DayNumber', 'Day'],\n",
       "      dtype='object')"
      ]
     },
     "execution_count": 33,
     "metadata": {},
     "output_type": "execute_result"
    }
   ],
   "source": [
    "accidents.columns"
   ]
  },
  {
   "cell_type": "code",
   "execution_count": 34,
   "id": "9e85371f-7cd4-4ec4-89af-0243169cd55d",
   "metadata": {},
   "outputs": [
    {
     "data": {
      "text/plain": [
       "Road_Type\n",
       "Single carriageway    492143\n",
       "Dual carriageway       99424\n",
       "Roundabout             43992\n",
       "One way street         13559\n",
       "Slip road               7041\n",
       "Unknown                 4520\n",
       "Name: count, dtype: int64"
      ]
     },
     "execution_count": 34,
     "metadata": {},
     "output_type": "execute_result"
    }
   ],
   "source": [
    "accidents['Road_Type'].value_counts()"
   ]
  },
  {
   "cell_type": "code",
   "execution_count": 35,
   "id": "41a9d25c-19df-4629-aab1-93ee9c306352",
   "metadata": {},
   "outputs": [
    {
     "data": {
      "image/png": "[encoded data removed]",
      "text/plain": [
       "<Figure size 640x480 with 1 Axes>"
      ]
     },
     "metadata": {},
     "output_type": "display_data"
    }
   ],
   "source": [
    "road_type_accidents = accidents['Road_Type'].value_counts()\n",
    "road_type_accidents.plot(kind = 'bar')\n",
    "plt.xlabel('Road Type')\n",
    "plt.ylabel('Number of accidents')\n",
    "plt.show()"
   ]
  },
  {
   "cell_type": "code",
   "execution_count": 36,
   "id": "852ba2e7-1076-4c19-8755-15fa5289bcf8",
   "metadata": {},
   "outputs": [
    {
     "name": "stderr",
     "output_type": "stream",
     "text": [
      "C:\\Users\\LAB4-StudentPC38\\AppData\\Local\\Temp\\ipykernel_11552\\472926244.py:1: FutureWarning: The default of observed=False is deprecated and will be changed to True in a future version of pandas. Pass observed=False to retain current behavior or observed=True to adopt the future default and silence this warning.\n",
      "  road_type_weather_cond = accidents.groupby(['Road_Type', 'Weather_Conditions']).size().unstack()\n"
     ]
    }
   ],
   "source": [
    "road_type_weather_cond = accidents.groupby(['Road_Type', 'Weather_Conditions']).size().unstack()\n",
    "# road_type_weather_cond"
   ]
  },
  {
   "cell_type": "code",
   "execution_count": 37,
   "id": "bdba5979-9c45-49cb-bd71-39713dc9fed0",
   "metadata": {},
   "outputs": [
    {
     "data": {
      "image/png": "[encoded data removed]",
      "text/plain": [
       "<Figure size 640x480 with 1 Axes>"
      ]
     },
     "metadata": {},
     "output_type": "display_data"
    }
   ],
   "source": [
    "road_type_weather_cond.plot(kind='bar')\n",
    "plt.xlabel('Road Type')\n",
    "plt.ylabel('Number of Accidents')\n",
    "plt.show()"
   ]
  },
  {
   "cell_type": "code",
   "execution_count": 38,
   "id": "22ce539a-cfa8-4ee6-8ecb-5d6ce20d571c",
   "metadata": {},
   "outputs": [
    {
     "name": "stderr",
     "output_type": "stream",
     "text": [
      "C:\\Users\\LAB4-StudentPC38\\AppData\\Local\\Temp\\ipykernel_11552\\2140808506.py:1: FutureWarning: The default of observed=False is deprecated and will be changed to True in a future version of pandas. Pass observed=False to retain current behavior or observed=True to adopt the future default and silence this warning.\n",
      "  road_type_road_cond = accidents.groupby(['Road_Type', 'Road_Surface_Conditions']).size().unstack()\n"
     ]
    },
    {
     "data": {
      "text/html": [
       "<div>\n",
       "<style scoped>\n",
       "    .dataframe tbody tr th:only-of-type {\n",
       "        vertical-align: middle;\n",
       "    }\n",
       "\n",
       "    .dataframe tbody tr th {\n",
       "        vertical-align: top;\n",
       "    }\n",
       "\n",
       "    .dataframe thead th {\n",
       "        text-align: right;\n",
       "    }\n",
       "</style>\n",
       "<table border=\"1\" class=\"dataframe\">\n",
       "  <thead>\n",
       "    <tr style=\"text-align: right;\">\n",
       "      <th>Road_Surface_Conditions</th>\n",
       "      <th>Dry</th>\n",
       "      <th>Flood over 3cm. deep</th>\n",
       "      <th>Frost or ice</th>\n",
       "      <th>Snow</th>\n",
       "      <th>Unknown</th>\n",
       "      <th>Wet or damp</th>\n",
       "    </tr>\n",
       "    <tr>\n",
       "      <th>Road_Type</th>\n",
       "      <th></th>\n",
       "      <th></th>\n",
       "      <th></th>\n",
       "      <th></th>\n",
       "      <th></th>\n",
       "      <th></th>\n",
       "    </tr>\n",
       "  </thead>\n",
       "  <tbody>\n",
       "    <tr>\n",
       "      <th>Dual carriageway</th>\n",
       "      <td>66205</td>\n",
       "      <td>302</td>\n",
       "      <td>2408</td>\n",
       "      <td>909</td>\n",
       "      <td>67</td>\n",
       "      <td>29533</td>\n",
       "    </tr>\n",
       "    <tr>\n",
       "      <th>One way street</th>\n",
       "      <td>10068</td>\n",
       "      <td>5</td>\n",
       "      <td>183</td>\n",
       "      <td>76</td>\n",
       "      <td>32</td>\n",
       "      <td>3195</td>\n",
       "    </tr>\n",
       "    <tr>\n",
       "      <th>Roundabout</th>\n",
       "      <td>30698</td>\n",
       "      <td>22</td>\n",
       "      <td>745</td>\n",
       "      <td>232</td>\n",
       "      <td>86</td>\n",
       "      <td>12209</td>\n",
       "    </tr>\n",
       "    <tr>\n",
       "      <th>Single carriageway</th>\n",
       "      <td>332698</td>\n",
       "      <td>672</td>\n",
       "      <td>14918</td>\n",
       "      <td>4585</td>\n",
       "      <td>527</td>\n",
       "      <td>138743</td>\n",
       "    </tr>\n",
       "    <tr>\n",
       "      <th>Slip road</th>\n",
       "      <td>4714</td>\n",
       "      <td>9</td>\n",
       "      <td>178</td>\n",
       "      <td>60</td>\n",
       "      <td>6</td>\n",
       "      <td>2074</td>\n",
       "    </tr>\n",
       "    <tr>\n",
       "      <th>Unknown</th>\n",
       "      <td>3438</td>\n",
       "      <td>7</td>\n",
       "      <td>85</td>\n",
       "      <td>28</td>\n",
       "      <td>8</td>\n",
       "      <td>954</td>\n",
       "    </tr>\n",
       "  </tbody>\n",
       "</table>\n",
       "</div>"
      ],
      "text/plain": [
       "Road_Surface_Conditions     Dry  Flood over 3cm. deep  Frost or ice  Snow  \\\n",
       "Road_Type                                                                   \n",
       "Dual carriageway          66205                   302          2408   909   \n",
       "One way street            10068                     5           183    76   \n",
       "Roundabout                30698                    22           745   232   \n",
       "Single carriageway       332698                   672         14918  4585   \n",
       "Slip road                  4714                     9           178    60   \n",
       "Unknown                    3438                     7            85    28   \n",
       "\n",
       "Road_Surface_Conditions  Unknown  Wet or damp  \n",
       "Road_Type                                      \n",
       "Dual carriageway              67        29533  \n",
       "One way street                32         3195  \n",
       "Roundabout                    86        12209  \n",
       "Single carriageway           527       138743  \n",
       "Slip road                      6         2074  \n",
       "Unknown                        8          954  "
      ]
     },
     "execution_count": 38,
     "metadata": {},
     "output_type": "execute_result"
    }
   ],
   "source": [
    "road_type_road_cond = accidents.groupby(['Road_Type', 'Road_Surface_Conditions']).size().unstack()\n",
    "road_type_road_cond"
   ]
  },
  {
   "cell_type": "code",
   "execution_count": 39,
   "id": "2767fd69-6276-454c-ac0c-32f0d7859a43",
   "metadata": {},
   "outputs": [
    {
     "data": {
      "image/png": "[encoded data removed]",
      "text/plain": [
       "<Figure size 640x480 with 1 Axes>"
      ]
     },
     "metadata": {},
     "output_type": "display_data"
    }
   ],
   "source": [
    "road_type_road_cond.plot(kind='bar')\n",
    "plt.xlabel('Road Type')\n",
    "plt.ylabel('Number of Accidents')\n",
    "plt.show()"
   ]
  },
  {
   "cell_type": "markdown",
   "id": "1880a63a-8b77-414b-8959-6868ac5daaea",
   "metadata": {},
   "source": [
    "<h1 style='\n",
    "    font-weight:700;\n",
    "    font-size:40px;\n",
    "    margin-bottom: 20px;\n",
    "    font-family: \"Segoe UI Light\";\n",
    "    letter-spacing: 1px;\n",
    "    '>\n",
    "    <span style='color:#597165;'>\n",
    "        Insights No.\n",
    "    </span> \n",
    "    11\n",
    "</h1>\n",
    "\n",
    "<!-- to separate the h1  -->\n",
    "<div style='\n",
    "    width: auto;\n",
    "    border-top: 1px solid white;\n",
    "    '>\n",
    "</div>\n",
    "\n",
    "<!-- question -->\n",
    "<h1 style='\n",
    "    font-weight:500;\n",
    "    font-size:30px;\n",
    "    margin-top: 15px;\n",
    "    margin-bottom: 15px;\n",
    "    font-family: \"Segoe UI Light\";\n",
    "    letter-spacing: 1px;\n",
    "    '>What day do the most accidents occur?\n",
    "</h1>\n",
    "\n",
    "<!-- answers -->\n",
    "<ol style='margin-top:10px;'>\n",
    "    <li style='\n",
    "        font-family: \"Segoe UI Light\";\n",
    "        font-weight: 500;\n",
    "        font-size: 20px;\n",
    "        color: #597165;\n",
    "        letter-spacing:1px;\n",
    "        '>\n",
    "        <span style='color:white;'>\n",
    "            Saturdays have the most accidents records with 107,178 cases. It also shows that accidents happen more frequently on weekends.\n",
    "        </span>\n",
    "    </li>\n",
    "</ol>"
   ]
  },
  {
   "cell_type": "code",
   "execution_count": 40,
   "id": "b0659b46-077f-4646-a704-ea3ac59181a9",
   "metadata": {},
   "outputs": [
    {
     "data": {
      "text/plain": [
       "Index(['Index', 'Accident_Severity', 'Accident Date', 'Latitude',\n",
       "       'Light_Conditions', 'District Area', 'Longitude',\n",
       "       'Number_of_Casualties', 'Number_of_Vehicles', 'Road_Surface_Conditions',\n",
       "       'Road_Type', 'Urban_or_Rural_Area', 'Weather_Conditions',\n",
       "       'Vehicle_Type', 'Year', 'Month', 'DayNumber', 'Day'],\n",
       "      dtype='object')"
      ]
     },
     "execution_count": 40,
     "metadata": {},
     "output_type": "execute_result"
    }
   ],
   "source": [
    "accidents.columns"
   ]
  },
  {
   "cell_type": "code",
   "execution_count": 41,
   "id": "a41afecc-9ed5-412a-8dfb-f0dbfa3fd07d",
   "metadata": {},
   "outputs": [],
   "source": [
    "accidents['Day'] = accidents['Accident Date'].dt.day_name()"
   ]
  },
  {
   "cell_type": "code",
   "execution_count": 42,
   "id": "7f964b27-09b1-4823-bba3-54787c21b6c7",
   "metadata": {},
   "outputs": [
    {
     "data": {
      "text/plain": [
       "Day\n",
       "Saturday     107178\n",
       "Wednesday     99558\n",
       "Thursday      99511\n",
       "Friday        97900\n",
       "Tuesday       94550\n",
       "Sunday        89302\n",
       "Monday        72680\n",
       "Name: count, dtype: int64"
      ]
     },
     "execution_count": 42,
     "metadata": {},
     "output_type": "execute_result"
    }
   ],
   "source": [
    "accidents['Day'].value_counts()"
   ]
  },
  {
   "cell_type": "code",
   "execution_count": 43,
   "id": "afb4172b-117e-4759-a79b-7634f9552df4",
   "metadata": {},
   "outputs": [
    {
     "data": {
      "image/png": "[encoded data removed]",
      "text/plain": [
       "<Figure size 640x480 with 1 Axes>"
      ]
     },
     "metadata": {},
     "output_type": "display_data"
    }
   ],
   "source": [
    "days_accidents = accidents['Day'].value_counts()\n",
    "days_accidents.plot(kind='bar')\n",
    "plt.show()"
   ]
  },
  {
   "cell_type": "markdown",
   "id": "e38ec97d-d1ce-44ce-99a0-ddbc9b9da0c6",
   "metadata": {},
   "source": [
    "<h1 style='\n",
    "    font-weight:700;\n",
    "    font-size:40px;\n",
    "    margin-bottom: 20px;\n",
    "    font-family: \"Segoe UI Light\";\n",
    "    letter-spacing: 1px;\n",
    "    '>\n",
    "    <span style='color:#597165;'>\n",
    "        Insights No.\n",
    "    </span> \n",
    "    12 - 15\n",
    "</h1>\n",
    "\n",
    "<!-- to separate the h1  -->\n",
    "<div style='\n",
    "    width: auto;\n",
    "    border-top: 1px solid white;\n",
    "    '>\n",
    "</div>\n",
    "\n",
    "<!-- question -->\n",
    "<h1 style='\n",
    "    font-weight:500;\n",
    "    font-size:30px;\n",
    "    margin-top: 15px;\n",
    "    margin-bottom: 15px;\n",
    "    font-family: \"Segoe UI Light\";\n",
    "    letter-spacing: 1px;\n",
    "    '>What district in certain days accidents happen more often? And how severe they are?\n",
    "</h1>\n",
    "\n",
    "<!-- answers -->\n",
    "<ol style='margin-top:10px;'>\n",
    "    <li style='\n",
    "        font-family: \"Segoe UI Light\";\n",
    "        font-weight: 500;\n",
    "        font-size: 20px;\n",
    "        color: #597165;\n",
    "        letter-spacing:1px;\n",
    "        '>\n",
    "        <span style='color:white;'>\n",
    "            On Birmingham, Saturdays, has the most frequent slight accidents, with 1895 instances. Next are Wednesdays with 1849 records. And Thursdays with 1831 records.\n",
    "        </span>\n",
    "    </li>\n",
    "    <li style='\n",
    "        font-family: \"Segoe UI Light\";\n",
    "        font-weight: 500;\n",
    "        font-size: 20px;\n",
    "        color: #597165;\n",
    "        letter-spacing:1px;\n",
    "        '>\n",
    "        <span style='color:white;'>\n",
    "            On Birmingham, Saturdays, has the most frequent serious accidents, with 237 instances. Next are Wednesdays with 230 records. And Sundays with 223 records.\n",
    "        </span>\n",
    "    </li>\n",
    "    <li style='\n",
    "        font-family: \"Segoe UI Light\";\n",
    "        font-weight: 500;\n",
    "        font-size: 20px;\n",
    "        color: #597165;\n",
    "        letter-spacing:1px;\n",
    "        '>\n",
    "        <span style='color:white;'>\n",
    "            Still on Birmingham, Both Sundays and Saturdays, has the most frequent fatal accidents, recording at 22 accidents. While Sundays on Highland comes short at 21 instances.\n",
    "        </span>\n",
    "    </li>\n",
    "</ol>"
   ]
  },
  {
   "cell_type": "code",
   "execution_count": 44,
   "id": "0f6a268f-5526-437c-8b91-73aa00715748",
   "metadata": {},
   "outputs": [],
   "source": [
    "slight_acc = accidents[accidents['Accident_Severity'] == 'Slight']\n",
    "serious_acc = accidents[accidents['Accident_Severity'] == 'Serious']\n",
    "fatal_acc = accidents[accidents['Accident_Severity'] == 'Fatal']\n",
    "# figured that birmingham has the most accidents\n",
    "birmingham_acc = accidents[accidents['District Area'] == 'Birmingham']"
   ]
  },
  {
   "cell_type": "code",
   "execution_count": 45,
   "id": "ec8aff96-0a50-442e-99b8-d098766c5334",
   "metadata": {},
   "outputs": [
    {
     "name": "stderr",
     "output_type": "stream",
     "text": [
      "C:\\Users\\LAB4-StudentPC38\\AppData\\Local\\Temp\\ipykernel_11552\\2692641038.py:1: FutureWarning: The default of observed=False is deprecated and will be changed to True in a future version of pandas. Pass observed=False to retain current behavior or observed=True to adopt the future default and silence this warning.\n",
      "  day_district_sl_accidents = slight_acc.groupby(['Day', 'District Area']).size().sort_values(ascending=False).head(10)\n"
     ]
    },
    {
     "data": {
      "text/plain": [
       "Day        District Area\n",
       "Saturday   Birmingham       1895\n",
       "Wednesday  Birmingham       1849\n",
       "Thursday   Birmingham       1831\n",
       "Tuesday    Birmingham       1765\n",
       "Friday     Birmingham       1736\n",
       "Sunday     Birmingham       1613\n",
       "Saturday   Leeds            1255\n",
       "Monday     Birmingham       1223\n",
       "Thursday   Leeds            1215\n",
       "Wednesday  Leeds            1161\n",
       "dtype: int64"
      ]
     },
     "execution_count": 45,
     "metadata": {},
     "output_type": "execute_result"
    }
   ],
   "source": [
    "day_district_sl_accidents = slight_acc.groupby(['Day', 'District Area']).size().sort_values(ascending=False).head(10)\n",
    "day_district_sl_accidents"
   ]
  },
  {
   "cell_type": "code",
   "execution_count": 92,
   "id": "8f123f14-efe3-4173-93d9-622dc7063bbc",
   "metadata": {},
   "outputs": [
    {
     "data": {
      "image/png": "[encoded data removed]",
      "text/plain": [
       "<Figure size 640x480 with 1 Axes>"
      ]
     },
     "metadata": {},
     "output_type": "display_data"
    }
   ],
   "source": [
    "day_district_sl_accidents.plot(kind='pie', autopct='%1.1f%%', shadow=True, startangle=90, colormap='Greens')\n",
    "plt.show()"
   ]
  },
  {
   "cell_type": "code",
   "execution_count": 78,
   "id": "da78d14d-8083-4db9-9bce-dbfe88cef692",
   "metadata": {},
   "outputs": [
    {
     "name": "stderr",
     "output_type": "stream",
     "text": [
      "C:\\Users\\LAB4-StudentPC38\\AppData\\Local\\Temp\\ipykernel_11552\\4011153013.py:1: FutureWarning: The default of observed=False is deprecated and will be changed to True in a future version of pandas. Pass observed=False to retain current behavior or observed=True to adopt the future default and silence this warning.\n",
      "  day_district_se_accidents = serious_acc.groupby(['Day', 'District Area']).size().sort_values(ascending=False).head(10)\n"
     ]
    },
    {
     "data": {
      "text/plain": [
       "Day        District Area\n",
       "Saturday   Birmingham       237\n",
       "Wednesday  Birmingham       230\n",
       "Sunday     Birmingham       223\n",
       "Tuesday    Birmingham       209\n",
       "Thursday   Birmingham       202\n",
       "Friday     Birmingham       195\n",
       "Saturday   Leeds            193\n",
       "Monday     Birmingham       178\n",
       "Thursday   Leeds            177\n",
       "           Westminster      164\n",
       "dtype: int64"
      ]
     },
     "execution_count": 78,
     "metadata": {},
     "output_type": "execute_result"
    }
   ],
   "source": [
    "day_district_se_accidents = serious_acc.groupby(['Day', 'District Area']).size().sort_values(ascending=False).head(10)\n",
    "day_district_se_accidents.sort_values(ascending=False)"
   ]
  },
  {
   "cell_type": "code",
   "execution_count": 93,
   "id": "0e9b574b-994f-49c4-8c0a-ea7330bf3f41",
   "metadata": {},
   "outputs": [
    {
     "data": {
      "image/png": "[encoded data removed]",
      "text/plain": [
       "<Figure size 640x480 with 1 Axes>"
      ]
     },
     "metadata": {},
     "output_type": "display_data"
    }
   ],
   "source": [
    "day_district_se_accidents.plot(kind='pie', autopct='%1.1f%%', shadow=True, startangle=90, colormap='Oranges')\n",
    "plt.show()"
   ]
  },
  {
   "cell_type": "code",
   "execution_count": 75,
   "id": "949e153a-91d8-4f62-a710-a6825bb33da2",
   "metadata": {},
   "outputs": [
    {
     "name": "stderr",
     "output_type": "stream",
     "text": [
      "C:\\Users\\LAB4-StudentPC38\\AppData\\Local\\Temp\\ipykernel_11552\\3179008732.py:1: FutureWarning: The default of observed=False is deprecated and will be changed to True in a future version of pandas. Pass observed=False to retain current behavior or observed=True to adopt the future default and silence this warning.\n",
      "  day_district_fa_accidents = fatal_acc.groupby(['Day', 'District Area']).size().sort_values(ascending=False).head(10)\n"
     ]
    },
    {
     "data": {
      "text/plain": [
       "Day        District Area           \n",
       "Saturday   Birmingham                  22\n",
       "Sunday     Birmingham                  22\n",
       "           Highland                    21\n",
       "Saturday   Leeds                       19\n",
       "           Powys                       18\n",
       "Monday     East Riding of Yorkshire    18\n",
       "Wednesday  East Riding of Yorkshire    18\n",
       "           Leeds                       17\n",
       "Monday     Powys                       17\n",
       "           Highland                    16\n",
       "dtype: int64"
      ]
     },
     "execution_count": 75,
     "metadata": {},
     "output_type": "execute_result"
    }
   ],
   "source": [
    "day_district_fa_accidents = fatal_acc.groupby(['Day', 'District Area']).size().sort_values(ascending=False).head(10)\n",
    "day_district_fa_accidents.sort_values(ascending=False)"
   ]
  },
  {
   "cell_type": "code",
   "execution_count": 94,
   "id": "65d32568-8530-406c-a6b9-0d618349e41e",
   "metadata": {},
   "outputs": [
    {
     "data": {
      "image/png": "[encoded data removed]",
      "text/plain": [
       "<Figure size 640x480 with 1 Axes>"
      ]
     },
     "metadata": {},
     "output_type": "display_data"
    }
   ],
   "source": [
    "day_district_fa_accidents.plot(kind='pie', autopct='%1.1f%%', shadow=True, startangle=90, colormap='Reds')\n",
    "plt.show()"
   ]
  },
  {
   "cell_type": "code",
   "execution_count": 70,
   "id": "a91b1c56-6919-42b8-a323-91f6fa186c03",
   "metadata": {},
   "outputs": [
    {
     "name": "stderr",
     "output_type": "stream",
     "text": [
      "C:\\Users\\LAB4-StudentPC38\\AppData\\Local\\Temp\\ipykernel_11552\\3565033979.py:1: FutureWarning: The default of observed=False is deprecated and will be changed to True in a future version of pandas. Pass observed=False to retain current behavior or observed=True to adopt the future default and silence this warning.\n",
      "  birm_slight = birmingham_acc.groupby('Accident_Severity').size().reset_index()\n"
     ]
    },
    {
     "data": {
      "text/html": [
       "<div>\n",
       "<style scoped>\n",
       "    .dataframe tbody tr th:only-of-type {\n",
       "        vertical-align: middle;\n",
       "    }\n",
       "\n",
       "    .dataframe tbody tr th {\n",
       "        vertical-align: top;\n",
       "    }\n",
       "\n",
       "    .dataframe thead th {\n",
       "        text-align: right;\n",
       "    }\n",
       "</style>\n",
       "<table border=\"1\" class=\"dataframe\">\n",
       "  <thead>\n",
       "    <tr style=\"text-align: right;\">\n",
       "      <th></th>\n",
       "      <th>Accident_Severity</th>\n",
       "      <th>0</th>\n",
       "    </tr>\n",
       "  </thead>\n",
       "  <tbody>\n",
       "    <tr>\n",
       "      <th>0</th>\n",
       "      <td>Fatal</td>\n",
       "      <td>105</td>\n",
       "    </tr>\n",
       "    <tr>\n",
       "      <th>1</th>\n",
       "      <td>Serious</td>\n",
       "      <td>1474</td>\n",
       "    </tr>\n",
       "    <tr>\n",
       "      <th>2</th>\n",
       "      <td>Slight</td>\n",
       "      <td>11912</td>\n",
       "    </tr>\n",
       "  </tbody>\n",
       "</table>\n",
       "</div>"
      ],
      "text/plain": [
       "  Accident_Severity      0\n",
       "0             Fatal    105\n",
       "1           Serious   1474\n",
       "2            Slight  11912"
      ]
     },
     "execution_count": 70,
     "metadata": {},
     "output_type": "execute_result"
    }
   ],
   "source": [
    "birm_slight = birmingham_acc.groupby('Accident_Severity').size().reset_index()\n",
    "birm_slight"
   ]
  },
  {
   "cell_type": "markdown",
   "id": "7cb69a2a-85f9-44c6-a9ef-2b82807b485e",
   "metadata": {},
   "source": [
    "<h1 style='\n",
    "    font-weight:700;\n",
    "    font-size:40px;\n",
    "    margin-bottom: 20px;\n",
    "    font-family: \"Segoe UI Light\";\n",
    "    letter-spacing: 1px;\n",
    "    '>\n",
    "    <span style='color:#597165;'>\n",
    "        Insights No.\n",
    "    </span> \n",
    "    16\n",
    "</h1>\n",
    "\n",
    "<!-- to separate the h1  -->\n",
    "<div style='\n",
    "    width: auto;\n",
    "    border-top: 1px solid white;\n",
    "    '>\n",
    "</div>\n",
    "\n",
    "<!-- question -->\n",
    "<h1 style='\n",
    "    font-weight:500;\n",
    "    font-size:30px;\n",
    "    margin-top: 15px;\n",
    "    margin-bottom: 15px;\n",
    "    font-family: \"Segoe UI Light\";\n",
    "    letter-spacing: 1px;\n",
    "    '>Does the time and visibility contribute to those accidents?\n",
    "</h1>\n",
    "\n",
    "<!-- answers -->\n",
    "<ol style='margin-top:10px;'>\n",
    "    <li style='\n",
    "        font-family: \"Segoe UI Light\";\n",
    "        font-weight: 500;\n",
    "        font-size: 20px;\n",
    "        color: #597165;\n",
    "        letter-spacing:1px;\n",
    "        '>\n",
    "        <span style='color:white;'>\n",
    "            Accidents on Daylight are the most common recording 484,880, suggesting that it is mostly cause of human error. Accidents on Darkness with lights lit up are next, with 129,335 instances and Darkness with no lighting recorded 37,437 cases. Goes to show that visibility also contributes to most of the accidents.\n",
    "        </span>\n",
    "    </li>\n",
    "</ol>"
   ]
  },
  {
   "cell_type": "code",
   "execution_count": 51,
   "id": "ee2a82ca-3013-4e09-8660-d8bc4b6ff933",
   "metadata": {},
   "outputs": [
    {
     "data": {
      "text/plain": [
       "Index(['Index', 'Accident_Severity', 'Accident Date', 'Latitude',\n",
       "       'Light_Conditions', 'District Area', 'Longitude',\n",
       "       'Number_of_Casualties', 'Number_of_Vehicles', 'Road_Surface_Conditions',\n",
       "       'Road_Type', 'Urban_or_Rural_Area', 'Weather_Conditions',\n",
       "       'Vehicle_Type', 'Year', 'Month', 'DayNumber', 'Day'],\n",
       "      dtype='object')"
      ]
     },
     "execution_count": 51,
     "metadata": {},
     "output_type": "execute_result"
    }
   ],
   "source": [
    "accidents.columns"
   ]
  },
  {
   "cell_type": "code",
   "execution_count": 95,
   "id": "f3db3ea7-30b5-404e-95b5-0276561ccbed",
   "metadata": {},
   "outputs": [],
   "source": [
    "light_accidents = accidents['Light_Conditions'].value_counts()"
   ]
  },
  {
   "cell_type": "code",
   "execution_count": 103,
   "id": "87556df9-3113-46b0-8cc7-56d4a122b2d8",
   "metadata": {},
   "outputs": [
    {
     "data": {
      "image/png": "[encoded data removed]",
      "text/plain": [
       "<Figure size 1300x850 with 1 Axes>"
      ]
     },
     "metadata": {},
     "output_type": "display_data"
    }
   ],
   "source": [
    "light_accidents.plot(marker = 'o')\n",
    "plt.gcf().set_size_inches(13, 8.5)"
   ]
  },
  {
   "cell_type": "markdown",
   "id": "a065c376-8a97-45d9-9353-3b1828e528fb",
   "metadata": {},
   "source": [
    "<h1 style='\n",
    "    font-weight:700;\n",
    "    font-size:40px;\n",
    "    margin-bottom: 20px;\n",
    "    font-family: \"Segoe UI Light\";\n",
    "    letter-spacing: 1px;\n",
    "    '>\n",
    "    <span style='color:#597165;'>\n",
    "        Insights No.\n",
    "    </span> \n",
    "    17\n",
    "</h1>\n",
    "\n",
    "<!-- to separate the h1  -->\n",
    "<div style='\n",
    "    width: auto;\n",
    "    border-top: 1px solid white;\n",
    "    '>\n",
    "</div>\n",
    "\n",
    "<!-- question -->\n",
    "<h1 style='\n",
    "    font-weight:500;\n",
    "    font-size:30px;\n",
    "    margin-top: 15px;\n",
    "    margin-bottom: 15px;\n",
    "    font-family: \"Segoe UI Light\";\n",
    "    letter-spacing: 1px;\n",
    "    '>Do bad/worse weather conditions, road surfaces conditions, and light condition contribute to the recorded cases of accidents?\n",
    "</h1>\n",
    "\n",
    "<!-- answers -->\n",
    "<ol style='margin-top:10px;'>\n",
    "    <li style='\n",
    "        font-family: \"Segoe UI Light\";\n",
    "        font-weight: 500;\n",
    "        font-size: 20px;\n",
    "        color: #597165;\n",
    "        letter-spacing:1px;\n",
    "        '>\n",
    "        <span style='color:white;'>\n",
    "            By analyzing the records, it shows that most accidents happen in suitable/good weather, road surface, and light condition. Not to disregard the other unfavorable recorded accidents. But it revealed that it is mostly just human error.\n",
    "        </span>\n",
    "    </li>\n",
    "</ol>"
   ]
  },
  {
   "cell_type": "code",
   "execution_count": 53,
   "id": "be56d67c-f35e-46de-b9f0-c4aab1396c09",
   "metadata": {},
   "outputs": [
    {
     "data": {
      "text/plain": [
       "Index(['Index', 'Accident_Severity', 'Accident Date', 'Latitude',\n",
       "       'Light_Conditions', 'District Area', 'Longitude',\n",
       "       'Number_of_Casualties', 'Number_of_Vehicles', 'Road_Surface_Conditions',\n",
       "       'Road_Type', 'Urban_or_Rural_Area', 'Weather_Conditions',\n",
       "       'Vehicle_Type', 'Year', 'Month', 'DayNumber', 'Day'],\n",
       "      dtype='object')"
      ]
     },
     "execution_count": 53,
     "metadata": {},
     "output_type": "execute_result"
    }
   ],
   "source": [
    "accidents.columns"
   ]
  },
  {
   "cell_type": "code",
   "execution_count": 54,
   "id": "a7985732-1693-4087-8c36-89561573466d",
   "metadata": {},
   "outputs": [],
   "source": [
    "slight_acc = accidents[accidents['Accident_Severity'] == 'Slight']\n",
    "serious_acc = accidents[accidents['Accident_Severity'] == 'Serious']\n",
    "fatal_acc = accidents[accidents['Accident_Severity'] == 'Fatal']"
   ]
  },
  {
   "cell_type": "code",
   "execution_count": 55,
   "id": "3fe74332-5432-45f0-9672-1b42da815956",
   "metadata": {},
   "outputs": [
    {
     "name": "stderr",
     "output_type": "stream",
     "text": [
      "C:\\Users\\LAB4-StudentPC38\\AppData\\Local\\Temp\\ipykernel_11552\\2257150982.py:1: FutureWarning: The default of observed=False is deprecated and will be changed to True in a future version of pandas. Pass observed=False to retain current behavior or observed=True to adopt the future default and silence this warning.\n",
      "  wc_rsc_lc_slight = slight_acc.groupby(['Weather_Conditions', 'Road_Surface_Conditions', 'Light_Conditions']).size()\n"
     ]
    },
    {
     "data": {
      "text/plain": [
       "Weather_Conditions     Road_Surface_Conditions  Light_Conditions           \n",
       "Fine no high winds     Dry                      Daylight                       292712\n",
       "                                                Darkness - lights lit           55594\n",
       "                       Wet or damp              Daylight                        43481\n",
       "Raining no high winds  Wet or damp              Daylight                        43201\n",
       "                                                Darkness - lights lit           19158\n",
       "                                                                                ...  \n",
       "Snowing no high winds  Unknown                  Darkness - lighting unknown         0\n",
       "Fine + high winds      Unknown                  Darkness - lights lit               0\n",
       "                                                Darkness - lighting unknown         0\n",
       "                       Snow                     Darkness - lights unlit             0\n",
       "                                                Darkness - lighting unknown         0\n",
       "Length: 270, dtype: int64"
      ]
     },
     "execution_count": 55,
     "metadata": {},
     "output_type": "execute_result"
    }
   ],
   "source": [
    "wc_rsc_lc_slight = slight_acc.groupby(['Weather_Conditions', 'Road_Surface_Conditions', 'Light_Conditions']).size()\n",
    "# wc_rsc_lc_slight.unstack()\n",
    "wc_rsc_lc_slight.sort_values(ascending=False)"
   ]
  },
  {
   "cell_type": "code",
   "execution_count": 56,
   "id": "024e950a-4333-4b3e-9a51-60f5593f6ae7",
   "metadata": {},
   "outputs": [
    {
     "name": "stderr",
     "output_type": "stream",
     "text": [
      "C:\\Users\\LAB4-StudentPC38\\AppData\\Local\\Temp\\ipykernel_11552\\612176657.py:1: FutureWarning: The default of observed=False is deprecated and will be changed to True in a future version of pandas. Pass observed=False to retain current behavior or observed=True to adopt the future default and silence this warning.\n",
      "  wc_rsc_lc_serious = serious_acc.groupby(['Weather_Conditions', 'Road_Surface_Conditions', 'Light_Conditions']).size()\n"
     ]
    },
    {
     "data": {
      "text/plain": [
       "Weather_Conditions     Road_Surface_Conditions  Light_Conditions           \n",
       "Fine no high winds     Dry                      Daylight                       45105\n",
       "                                                Darkness - lights lit          10599\n",
       "                       Wet or damp              Daylight                        6050\n",
       "Raining no high winds  Wet or damp              Daylight                        5143\n",
       "Fine no high winds     Wet or damp              Darkness - lights lit           3361\n",
       "                                                                               ...  \n",
       "Unknown                Flood over 3cm. deep     Daylight                           0\n",
       "Fine + high winds      Flood over 3cm. deep     Darkness - no lighting             0\n",
       "                                                Darkness - lights unlit            0\n",
       "                                                Darkness - lights lit              0\n",
       "                                                Darkness - lighting unknown        0\n",
       "Length: 270, dtype: int64"
      ]
     },
     "execution_count": 56,
     "metadata": {},
     "output_type": "execute_result"
    }
   ],
   "source": [
    "wc_rsc_lc_serious = serious_acc.groupby(['Weather_Conditions', 'Road_Surface_Conditions', 'Light_Conditions']).size()\n",
    "wc_rsc_lc_serious.sort_values(ascending=False)"
   ]
  },
  {
   "cell_type": "code",
   "execution_count": 57,
   "id": "110a5749-3439-4ede-9947-66250aa50782",
   "metadata": {},
   "outputs": [
    {
     "name": "stderr",
     "output_type": "stream",
     "text": [
      "C:\\Users\\LAB4-StudentPC38\\AppData\\Local\\Temp\\ipykernel_11552\\3996625388.py:1: FutureWarning: The default of observed=False is deprecated and will be changed to True in a future version of pandas. Pass observed=False to retain current behavior or observed=True to adopt the future default and silence this warning.\n",
      "  wc_rsc_lc_fatal = fatal_acc.groupby(['Weather_Conditions', 'Road_Surface_Conditions', 'Light_Conditions']).size()\n"
     ]
    },
    {
     "data": {
      "text/plain": [
       "Weather_Conditions     Road_Surface_Conditions  Light_Conditions           \n",
       "Fine no high winds     Dry                      Daylight                       3676\n",
       "                                                Darkness - lights lit          1039\n",
       "                                                Darkness - no lighting          810\n",
       "                       Wet or damp              Daylight                        584\n",
       "Raining no high winds  Wet or damp              Daylight                        411\n",
       "                                                                               ... \n",
       "Unknown                Snow                     Darkness - no lighting            0\n",
       "                                                Darkness - lights unlit           0\n",
       "                                                Darkness - lights lit             0\n",
       "                                                Darkness - lighting unknown       0\n",
       "                       Frost or ice             Daylight                          0\n",
       "Length: 270, dtype: int64"
      ]
     },
     "execution_count": 57,
     "metadata": {},
     "output_type": "execute_result"
    }
   ],
   "source": [
    "wc_rsc_lc_fatal = fatal_acc.groupby(['Weather_Conditions', 'Road_Surface_Conditions', 'Light_Conditions']).size()\n",
    "wc_rsc_lc_fatal.sort_values(ascending=False)"
   ]
  },
  {
   "cell_type": "markdown",
   "id": "f488b7fd-27eb-4be3-aad5-9194cda9a31c",
   "metadata": {},
   "source": [
    "<h1 style='\n",
    "    font-weight:700;\n",
    "    font-size:40px;\n",
    "    margin-bottom: 20px;\n",
    "    font-family: \"Segoe UI Light\";\n",
    "    letter-spacing: 1px;\n",
    "    '>\n",
    "    <span style='color:#597165;'>\n",
    "        Insights No.\n",
    "    </span> \n",
    "    18 - 20\n",
    "</h1>\n",
    "\n",
    "<!-- to separate the h1  -->\n",
    "<div style='\n",
    "    width: auto;\n",
    "    border-top: 1px solid white;\n",
    "    '>\n",
    "</div>\n",
    "\n",
    "<!-- question -->\n",
    "<h1 style='\n",
    "    font-weight:500;\n",
    "    font-size:30px;\n",
    "    margin-top: 15px;\n",
    "    margin-bottom: 15px;\n",
    "    font-family: \"Segoe UI Light\";\n",
    "    letter-spacing: 1px;\n",
    "    '>What area has the highest accidents recorded by severity and casualties?\n",
    "</h1>\n",
    "\n",
    "<!-- answers -->\n",
    "<ol style='margin-top:10px;'>\n",
    "    <li style='\n",
    "        font-family: \"Segoe UI Light\";\n",
    "        font-weight: 500;\n",
    "        font-size: 20px;\n",
    "        color: #597165;\n",
    "        letter-spacing:1px;\n",
    "        '>\n",
    "        <span style='color:white;'>\n",
    "            Rural Areas is where the most slight accidents happen, recording 140,089 accidents and all of them have 1 casualty.\n",
    "            <br>\n",
    "            Analyst note: I can't help but notice that there is an instance where there are 32 casualties in an Urban Area.\n",
    "        </span>\n",
    "    </li>\n",
    "    <li style='\n",
    "        font-family: \"Segoe UI Light\";\n",
    "        font-weight: 500;\n",
    "        font-size: 20px;\n",
    "        color: #597165;\n",
    "        letter-spacing:1px;\n",
    "        '>\n",
    "        <span style='color:white;'>\n",
    "            Also in Rural Areas is where the most serious accidents happen, recording 23,181 accidents and all of them have 1 casualty.\n",
    "            <br>\n",
    "            Analyst note: I also noticed that there are two instances where there are 27 and 29 casualties in Urban Areas.\n",
    "        </span>\n",
    "    </li>\n",
    "    <li style='\n",
    "        font-family: \"Segoe UI Light\";\n",
    "        font-weight: 500;\n",
    "        font-size: 20px;\n",
    "        color: #597165;\n",
    "        letter-spacing:1px;\n",
    "        '>\n",
    "        <span style='color:white;'>\n",
    "            Lastly, Rural Areas is where the most fatal accidents happen, recording 2704 accidents and all of them have 1 casualty.\n",
    "        </span>\n",
    "    </li>\n",
    "</ol>"
   ]
  },
  {
   "cell_type": "code",
   "execution_count": 58,
   "id": "955e3639-81b6-4628-9015-a9dd67c2bbeb",
   "metadata": {},
   "outputs": [
    {
     "data": {
      "text/plain": [
       "Index(['Index', 'Accident_Severity', 'Accident Date', 'Latitude',\n",
       "       'Light_Conditions', 'District Area', 'Longitude',\n",
       "       'Number_of_Casualties', 'Number_of_Vehicles', 'Road_Surface_Conditions',\n",
       "       'Road_Type', 'Urban_or_Rural_Area', 'Weather_Conditions',\n",
       "       'Vehicle_Type', 'Year', 'Month', 'DayNumber', 'Day'],\n",
       "      dtype='object')"
      ]
     },
     "execution_count": 58,
     "metadata": {},
     "output_type": "execute_result"
    }
   ],
   "source": [
    "accidents.columns"
   ]
  },
  {
   "cell_type": "code",
   "execution_count": 59,
   "id": "94c3748c-2ab6-473f-a7cb-c2288677af13",
   "metadata": {},
   "outputs": [],
   "source": [
    "slight_acc = accidents[accidents['Accident_Severity'] == 'Slight']\n",
    "serious_acc = accidents[accidents['Accident_Severity'] == 'Serious']\n",
    "fatal_acc = accidents[accidents['Accident_Severity'] == 'Fatal']"
   ]
  },
  {
   "cell_type": "code",
   "execution_count": 60,
   "id": "cdfbe5f6-0414-487e-896c-d972104df061",
   "metadata": {},
   "outputs": [
    {
     "name": "stderr",
     "output_type": "stream",
     "text": [
      "C:\\Users\\LAB4-StudentPC38\\AppData\\Local\\Temp\\ipykernel_11552\\676129985.py:1: FutureWarning: The default of observed=False is deprecated and will be changed to True in a future version of pandas. Pass observed=False to retain current behavior or observed=True to adopt the future default and silence this warning.\n",
      "  slight_acc_area = slight_acc.groupby(['Urban_or_Rural_Area', 'Number_of_Casualties']).size()\n"
     ]
    },
    {
     "data": {
      "text/plain": [
       "Urban_or_Rural_Area  Number_of_Casualties\n",
       "Rural                1                       140089\n",
       "                     2                        38854\n",
       "                     3                        11125\n",
       "                     4                         3916\n",
       "                     5                         1334\n",
       "                                              ...  \n",
       "Urban                29                           0\n",
       "                     32                           1\n",
       "                     40                           0\n",
       "                     43                           0\n",
       "                     47                           0\n",
       "Length: 120, dtype: int64"
      ]
     },
     "execution_count": 60,
     "metadata": {},
     "output_type": "execute_result"
    }
   ],
   "source": [
    "slight_acc_area = slight_acc.groupby(['Urban_or_Rural_Area', 'Number_of_Casualties']).size()\n",
    "slight_acc_area"
   ]
  },
  {
   "cell_type": "code",
   "execution_count": 61,
   "id": "8a69faf4-8c1f-4dc6-9fce-a0e24152f0bb",
   "metadata": {},
   "outputs": [
    {
     "name": "stderr",
     "output_type": "stream",
     "text": [
      "C:\\Users\\LAB4-StudentPC38\\AppData\\Local\\Temp\\ipykernel_11552\\330028974.py:1: FutureWarning: The default of observed=False is deprecated and will be changed to True in a future version of pandas. Pass observed=False to retain current behavior or observed=True to adopt the future default and silence this warning.\n",
      "  serious_acc_area = serious_acc.groupby(['Urban_or_Rural_Area', 'Number_of_Casualties']).size()\n"
     ]
    },
    {
     "data": {
      "text/plain": [
       "Urban_or_Rural_Area  Number_of_Casualties\n",
       "Rural                1                       23181\n",
       "                     2                        8012\n",
       "                     3                        3359\n",
       "                     4                        1507\n",
       "                     5                         718\n",
       "                                             ...  \n",
       "Urban                21                          0\n",
       "                     27                          1\n",
       "                     29                          1\n",
       "                     42                          0\n",
       "                     45                          0\n",
       "Length: 96, dtype: int64"
      ]
     },
     "execution_count": 61,
     "metadata": {},
     "output_type": "execute_result"
    }
   ],
   "source": [
    "serious_acc_area = serious_acc.groupby(['Urban_or_Rural_Area', 'Number_of_Casualties']).size()\n",
    "serious_acc_area"
   ]
  },
  {
   "cell_type": "code",
   "execution_count": 62,
   "id": "66cc54bf-5e9c-4045-b382-13e90f39850b",
   "metadata": {},
   "outputs": [
    {
     "name": "stderr",
     "output_type": "stream",
     "text": [
      "C:\\Users\\LAB4-StudentPC38\\AppData\\Local\\Temp\\ipykernel_11552\\3899030047.py:1: FutureWarning: The default of observed=False is deprecated and will be changed to True in a future version of pandas. Pass observed=False to retain current behavior or observed=True to adopt the future default and silence this warning.\n",
      "  fatal_acc_area = fatal_acc.groupby(['Urban_or_Rural_Area', 'Number_of_Casualties']).size()\n"
     ]
    },
    {
     "data": {
      "text/plain": [
       "Urban_or_Rural_Area  Number_of_Casualties\n",
       "Rural                1                       2704\n",
       "                     2                       1470\n",
       "                     3                        680\n",
       "                     4                        366\n",
       "                     5                        192\n",
       "                                             ... \n",
       "Urban                40                         0\n",
       "                     42                         0\n",
       "                     48                         0\n",
       "                     62                         0\n",
       "                     68                         0\n",
       "Length: 104, dtype: int64"
      ]
     },
     "execution_count": 62,
     "metadata": {},
     "output_type": "execute_result"
    }
   ],
   "source": [
    "fatal_acc_area = fatal_acc.groupby(['Urban_or_Rural_Area', 'Number_of_Casualties']).size()\n",
    "fatal_acc_area"
   ]
  },
  {
   "cell_type": "code",
   "execution_count": null,
   "id": "188a2c13-fa2b-48aa-a8cd-0f8141e76cc0",
   "metadata": {},
   "outputs": [],
   "source": []
  }
 ],
 "metadata": {
  "kernelspec": {
   "display_name": "Python 3 (ipykernel)",
   "language": "python",
   "name": "python3"
  },
  "language_info": {
   "codemirror_mode": {
    "name": "ipython",
    "version": 3
   },
   "file_extension": ".py",
   "mimetype": "text/x-python",
   "name": "python",
   "nbconvert_exporter": "python",
   "pygments_lexer": "ipython3",
   "version": "3.13.1"
  }
 },
 "nbformat": 4,
 "nbformat_minor": 5
}
